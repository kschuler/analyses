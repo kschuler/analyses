{
  "nbformat": 4,
  "nbformat_minor": 0,
  "metadata": {
    "colab": {
      "name": "Copy of blank_rnotebook.ipynb",
      "version": "0.3.2",
      "provenance": [],
      "collapsed_sections": [],
      "include_colab_link": true
    },
    "kernelspec": {
      "display_name": "R",
      "language": "R",
      "name": "ir"
    }
  },
  "cells": [
    {
      "cell_type": "markdown",
      "metadata": {
        "id": "view-in-github",
        "colab_type": "text"
      },
      "source": [
        "<a href=\"https://colab.research.google.com/github/kschuler/analyses/blob/master/exp1-yang1/rnotebook.ipynb\" target=\"_parent\"><img src=\"https://colab.research.google.com/assets/colab-badge.svg\" alt=\"Open In Colab\"/></a>"
      ]
    },
    {
      "cell_type": "code",
      "metadata": {
        "id": "uQq1BmXpuTm9",
        "colab_type": "code",
        "colab": {}
      },
      "source": [
        "library(dplyr)\n",
        "library(ggplot2)\n",
        "library(tidyr)\n",
        "library(readr)"
      ],
      "execution_count": 0,
      "outputs": []
    },
    {
      "cell_type": "code",
      "metadata": {
        "id": "RPJ5BxqZyBrB",
        "colab_type": "code",
        "colab": {}
      },
      "source": [
        "# read in the coded data file\n",
        "tracker <- read_csv('empiricalyang-kid-data - SubjectTracking (2).csv') %>%\n",
        "  select(experiment, version, language, condition, age_group, subject, random_id)\n"
      ],
      "execution_count": 0,
      "outputs": []
    },
    {
      "cell_type": "code",
      "metadata": {
        "id": "TudsEeXR530_",
        "colab_type": "code",
        "colab": {}
      },
      "source": [
        "production <- read_csv('empiricalyang-kid-data - Production.csv') %>% \n",
        "  left_join(tracker, by = c('experiment', 'condition', 'subject', 'age_group', 'language'))\n",
        "rating <- read_csv('empiricalyang-kid-data - Rating.csv') %>%\n",
        "  left_join(tracker, by = c('experiment', 'condition', 'subject', 'age_group', 'language'))\n",
        "afc <- read_csv('empiricalyang-kid-data - 2AFC.csv') %>%\n",
        "  left_join(tracker, by = c('experiment', 'condition', 'subject', 'age_group', 'language'))\n",
        "\n"
      ],
      "execution_count": 0,
      "outputs": []
    },
    {
      "cell_type": "code",
      "metadata": {
        "id": "YN1oDrCk5zBZ",
        "colab_type": "code",
        "colab": {
          "base_uri": "https://localhost:8080/",
          "height": 224
        },
        "outputId": "a7a77380-2d07-49d9-ed24-4c1a67166a34"
      },
      "source": [
        "head(production)"
      ],
      "execution_count": 12,
      "outputs": [
        {
          "output_type": "display_data",
          "data": {
            "text/plain": [
              "  experiment exp_phase  age_group subject                                      \n",
              "1 1          production adult     A173LV77LF3SHB:3UNH76FOCS6X3IKAYNDILUPQD3NYM9\n",
              "2 1          production adult     A16TESTJICU76L:3TPWUS5F892G5RDJ6X1GX1ZY8M3CW0\n",
              "3 1          production adult     A173LV77LF3SHB:3UNH76FOCS6X3IKAYNDILUPQD3NYM9\n",
              "4 1          production adult     A173LV77LF3SHB:3UNH76FOCS6X3IKAYNDILUPQD3NYM9\n",
              "5 1          production adult     A173LV77LF3SHB:3UNH76FOCS6X3IKAYNDILUPQD3NYM9\n",
              "6 1          production adult     A173LV77LF3SHB:3UNH76FOCS6X3IKAYNDILUPQD3NYM9\n",
              "  condition language noun    trial_id corr_noun num marker_used marker_type\n",
              "1 3R6E      B        flugit  1        1         NA  ka          R          \n",
              "2 5R4E      A        bleggin 2        1         NA  ka          R          \n",
              "3 3R6E      B        sep     3        1         NA  woo         e          \n",
              "4 3R6E      B        flugit  4        1         NA  ka          R          \n",
              "5 3R6E      B        geed    5        1         NA  woo         e          \n",
              "6 3R6E      B        bleggin 6        1         NA  ka          R          \n",
              "  version random_id\n",
              "1 v1      2PbAi1kA \n",
              "2 v1      txSlNf9j \n",
              "3 v1      2PbAi1kA \n",
              "4 v1      2PbAi1kA \n",
              "5 v1      2PbAi1kA \n",
              "6 v1      2PbAi1kA "
            ],
            "text/latex": "A tibble: 6 × 14\n\\begin{tabular}{r|llllllllllllll}\n experiment & exp\\_phase & age\\_group & subject & condition & language & noun & trial\\_id & corr\\_noun & num & marker\\_used & marker\\_type & version & random\\_id\\\\\n <dbl> & <chr> & <chr> & <chr> & <chr> & <chr> & <chr> & <dbl> & <dbl> & <dbl> & <chr> & <chr> & <chr> & <chr>\\\\\n\\hline\n\t 1 & production & adult & A173LV77LF3SHB:3UNH76FOCS6X3IKAYNDILUPQD3NYM9 & 3R6E & B & flugit  & 1 & 1 & NA & ka  & R & v1 & 2PbAi1kA\\\\\n\t 1 & production & adult & A16TESTJICU76L:3TPWUS5F892G5RDJ6X1GX1ZY8M3CW0 & 5R4E & A & bleggin & 2 & 1 & NA & ka  & R & v1 & txSlNf9j\\\\\n\t 1 & production & adult & A173LV77LF3SHB:3UNH76FOCS6X3IKAYNDILUPQD3NYM9 & 3R6E & B & sep     & 3 & 1 & NA & woo & e & v1 & 2PbAi1kA\\\\\n\t 1 & production & adult & A173LV77LF3SHB:3UNH76FOCS6X3IKAYNDILUPQD3NYM9 & 3R6E & B & flugit  & 4 & 1 & NA & ka  & R & v1 & 2PbAi1kA\\\\\n\t 1 & production & adult & A173LV77LF3SHB:3UNH76FOCS6X3IKAYNDILUPQD3NYM9 & 3R6E & B & geed    & 5 & 1 & NA & woo & e & v1 & 2PbAi1kA\\\\\n\t 1 & production & adult & A173LV77LF3SHB:3UNH76FOCS6X3IKAYNDILUPQD3NYM9 & 3R6E & B & bleggin & 6 & 1 & NA & ka  & R & v1 & 2PbAi1kA\\\\\n\\end{tabular}\n",
            "text/markdown": "\nA tibble: 6 × 14\n\n| experiment &lt;dbl&gt; | exp_phase &lt;chr&gt; | age_group &lt;chr&gt; | subject &lt;chr&gt; | condition &lt;chr&gt; | language &lt;chr&gt; | noun &lt;chr&gt; | trial_id &lt;dbl&gt; | corr_noun &lt;dbl&gt; | num &lt;dbl&gt; | marker_used &lt;chr&gt; | marker_type &lt;chr&gt; | version &lt;chr&gt; | random_id &lt;chr&gt; |\n|---|---|---|---|---|---|---|---|---|---|---|---|---|---|\n| 1 | production | adult | A173LV77LF3SHB:3UNH76FOCS6X3IKAYNDILUPQD3NYM9 | 3R6E | B | flugit  | 1 | 1 | NA | ka  | R | v1 | 2PbAi1kA |\n| 1 | production | adult | A16TESTJICU76L:3TPWUS5F892G5RDJ6X1GX1ZY8M3CW0 | 5R4E | A | bleggin | 2 | 1 | NA | ka  | R | v1 | txSlNf9j |\n| 1 | production | adult | A173LV77LF3SHB:3UNH76FOCS6X3IKAYNDILUPQD3NYM9 | 3R6E | B | sep     | 3 | 1 | NA | woo | e | v1 | 2PbAi1kA |\n| 1 | production | adult | A173LV77LF3SHB:3UNH76FOCS6X3IKAYNDILUPQD3NYM9 | 3R6E | B | flugit  | 4 | 1 | NA | ka  | R | v1 | 2PbAi1kA |\n| 1 | production | adult | A173LV77LF3SHB:3UNH76FOCS6X3IKAYNDILUPQD3NYM9 | 3R6E | B | geed    | 5 | 1 | NA | woo | e | v1 | 2PbAi1kA |\n| 1 | production | adult | A173LV77LF3SHB:3UNH76FOCS6X3IKAYNDILUPQD3NYM9 | 3R6E | B | bleggin | 6 | 1 | NA | ka  | R | v1 | 2PbAi1kA |\n\n",
            "text/html": [
              "<table>\n",
              "<caption>A tibble: 6 × 14</caption>\n",
              "<thead>\n",
              "\t<tr><th scope=col>experiment</th><th scope=col>exp_phase</th><th scope=col>age_group</th><th scope=col>subject</th><th scope=col>condition</th><th scope=col>language</th><th scope=col>noun</th><th scope=col>trial_id</th><th scope=col>corr_noun</th><th scope=col>num</th><th scope=col>marker_used</th><th scope=col>marker_type</th><th scope=col>version</th><th scope=col>random_id</th></tr>\n",
              "\t<tr><th scope=col>&lt;dbl&gt;</th><th scope=col>&lt;chr&gt;</th><th scope=col>&lt;chr&gt;</th><th scope=col>&lt;chr&gt;</th><th scope=col>&lt;chr&gt;</th><th scope=col>&lt;chr&gt;</th><th scope=col>&lt;chr&gt;</th><th scope=col>&lt;dbl&gt;</th><th scope=col>&lt;dbl&gt;</th><th scope=col>&lt;dbl&gt;</th><th scope=col>&lt;chr&gt;</th><th scope=col>&lt;chr&gt;</th><th scope=col>&lt;chr&gt;</th><th scope=col>&lt;chr&gt;</th></tr>\n",
              "</thead>\n",
              "<tbody>\n",
              "\t<tr><td>1</td><td>production</td><td>adult</td><td>A173LV77LF3SHB:3UNH76FOCS6X3IKAYNDILUPQD3NYM9</td><td>3R6E</td><td>B</td><td>flugit </td><td>1</td><td>1</td><td>NA</td><td>ka </td><td>R</td><td>v1</td><td>2PbAi1kA</td></tr>\n",
              "\t<tr><td>1</td><td>production</td><td>adult</td><td>A16TESTJICU76L:3TPWUS5F892G5RDJ6X1GX1ZY8M3CW0</td><td>5R4E</td><td>A</td><td>bleggin</td><td>2</td><td>1</td><td>NA</td><td>ka </td><td>R</td><td>v1</td><td>txSlNf9j</td></tr>\n",
              "\t<tr><td>1</td><td>production</td><td>adult</td><td>A173LV77LF3SHB:3UNH76FOCS6X3IKAYNDILUPQD3NYM9</td><td>3R6E</td><td>B</td><td>sep    </td><td>3</td><td>1</td><td>NA</td><td>woo</td><td>e</td><td>v1</td><td>2PbAi1kA</td></tr>\n",
              "\t<tr><td>1</td><td>production</td><td>adult</td><td>A173LV77LF3SHB:3UNH76FOCS6X3IKAYNDILUPQD3NYM9</td><td>3R6E</td><td>B</td><td>flugit </td><td>4</td><td>1</td><td>NA</td><td>ka </td><td>R</td><td>v1</td><td>2PbAi1kA</td></tr>\n",
              "\t<tr><td>1</td><td>production</td><td>adult</td><td>A173LV77LF3SHB:3UNH76FOCS6X3IKAYNDILUPQD3NYM9</td><td>3R6E</td><td>B</td><td>geed   </td><td>5</td><td>1</td><td>NA</td><td>woo</td><td>e</td><td>v1</td><td>2PbAi1kA</td></tr>\n",
              "\t<tr><td>1</td><td>production</td><td>adult</td><td>A173LV77LF3SHB:3UNH76FOCS6X3IKAYNDILUPQD3NYM9</td><td>3R6E</td><td>B</td><td>bleggin</td><td>6</td><td>1</td><td>NA</td><td>ka </td><td>R</td><td>v1</td><td>2PbAi1kA</td></tr>\n",
              "</tbody>\n",
              "</table>\n"
            ]
          },
          "metadata": {
            "tags": []
          }
        }
      ]
    },
    {
      "cell_type": "code",
      "metadata": {
        "id": "KBZ1FnHa7XES",
        "colab_type": "code",
        "colab": {}
      },
      "source": [
        "write.csv(filter(production, experiment == 1), 'production1.csv')\n",
        "write.csv(filter(rating, experiment == 1), 'rating1.csv')\n",
        "write.csv(filter(afc, experiment == 1), '2afc1.csv')"
      ],
      "execution_count": 0,
      "outputs": []
    },
    {
      "cell_type": "code",
      "metadata": {
        "id": "By8ViV0r8d1i",
        "colab_type": "code",
        "colab": {}
      },
      "source": [
        "write.csv(filter(production, experiment == 2), 'production1.csv')\n",
        "write.csv(filter(rating, experiment == 2), 'rating1.csv')\n",
        "write.csv(filter(afc, experiment == 2), '2afc1.csv')"
      ],
      "execution_count": 0,
      "outputs": []
    }
  ]
}