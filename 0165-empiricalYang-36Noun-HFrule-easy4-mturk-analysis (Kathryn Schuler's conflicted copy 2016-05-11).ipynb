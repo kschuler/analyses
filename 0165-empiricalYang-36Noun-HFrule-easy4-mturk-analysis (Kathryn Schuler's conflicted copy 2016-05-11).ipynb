{
 "cells": [
  {
   "cell_type": "markdown",
   "metadata": {},
   "source": [
    "## Import required packages and setup\n",
    "Before we begin our analysis, we import some required packages"
   ]
  },
  {
   "cell_type": "code",
   "execution_count": 9,
   "metadata": {
    "collapsed": false
   },
   "outputs": [],
   "source": [
    "#import packages (required for analysis)\n",
    "from sqlalchemy import create_engine, MetaData, Table\n",
    "import json\n",
    "\n",
    "\n",
    "# setup some of the figure aesthetics to make it look prettier\n"
   ]
  },
  {
   "cell_type": "markdown",
   "metadata": {},
   "source": [
    "## Setup experiment paths\n",
    "Next, we set some useful parameters to tell pandas where our data and required files are located."
   ]
  },
  {
   "cell_type": "code",
   "execution_count": 2,
   "metadata": {
    "collapsed": false
   },
   "outputs": [],
   "source": [
    "#params (change these for every experiment)\n",
    "DATA_PATH = '/Users/kathrynschuler/Documents/current/research/raw-data/'\n",
    "exp_id = '0165'\n",
    "exp_title = 'empiricalYang-36Noun-HFrule-easy4-mturk'\n"
   ]
  },
  {
   "cell_type": "code",
   "execution_count": 3,
   "metadata": {
    "collapsed": false
   },
   "outputs": [
    {
     "name": "stdout",
     "output_type": "stream",
     "text": [
      "sqlite:////Users/kathrynschuler/Documents/current/research/raw-data/0165-empiricalYang-36Noun-HFrule-easy4-mturk-data/participants.db\n"
     ]
    }
   ],
   "source": [
    "## The db_url has to look like this. you get the particiant.db from the server location of the experiment by\n",
    "## using the command :\n",
    "## scp -r -P 8008 kschuler@104.131.28.137:path/to/exp/file.db $HOME/Path/to/raw-data\n",
    "db_url = \"sqlite:///\"+DATA_PATH+exp_id+\"-\"+exp_title+\"-data/participants.db\"\n",
    "## table name set in config.txt of experiment file\n",
    "table_name = '0165'\n",
    "## data_column_name set automatically by psiturk\n",
    "data_column_name = 'datastring'\n",
    "\n",
    "print db_url"
   ]
  },
  {
   "cell_type": "code",
   "execution_count": 4,
   "metadata": {
    "collapsed": false
   },
   "outputs": [],
   "source": [
    "# boilerplace sqlalchemy setup\n",
    "engine = create_engine(db_url)\n",
    "metadata = MetaData()\n",
    "metadata.bind = engine\n",
    "table = Table(table_name, metadata, autoload=True)"
   ]
  },
  {
   "cell_type": "code",
   "execution_count": 5,
   "metadata": {
    "collapsed": false
   },
   "outputs": [],
   "source": [
    "# make a query and loop through\n",
    "s = table.select()\n",
    "rows = s.execute()\n",
    "\n",
    "data = []\n",
    "#status codes of subjects who completed experiment\n",
    "statuses = [3, 4, 5, 7]\n",
    "# if you have workers you wish to exclude, add them here\n",
    "exclude = ['A35YZM09QR7IZG:31T4R4OBOSH1FCCIYPT45L0HETLC7K']\n",
    "for row in rows:\n",
    "    # only use subjects who completed experiment and aren't excluded\n",
    "    if row['status'] in statuses and row['uniqueid'] not in exclude:\n",
    "        data.append(row[data_column_name])"
   ]
  },
  {
   "cell_type": "code",
   "execution_count": 6,
   "metadata": {
    "collapsed": false
   },
   "outputs": [],
   "source": [
    "# Now we have all participant datastrings in a list.\n",
    "# Let's make it a bit easier to work with:\n",
    "\n",
    "# parse each participant's datastring as json object\n",
    "# and take the 'data' sub-object\n",
    "data = [json.loads(part)['data'] for part in data]\n",
    "\n",
    "# insert uniqueid field into trialdata in case it wasn't added\n",
    "# in experiment:\n",
    "for part in data:\n",
    "    for record in part:\n",
    "        record['trialdata']['uniqueid'] = record['uniqueid']\n",
    "\n",
    "# flatten nested list so we just have a list of the trialdata recorded\n",
    "# each time psiturk.recordTrialData(trialdata) was called.\n",
    "data = [record['trialdata'] for part in data for record in part]\n",
    "\n",
    "# Put all subjects' trial data into a dataframe object from the\n",
    "# 'pandas' python library: one option among many for analysis\n",
    "data_frame = pd.DataFrame(data)\n",
    "\n"
   ]
  },
  {
   "cell_type": "code",
   "execution_count": 7,
   "metadata": {
    "collapsed": false
   },
   "outputs": [
    {
     "name": "stdout",
     "output_type": "stream",
     "text": [
      "               action case condition correct counterbalance  det detnum error  \\\n",
      "0               Begin  NaN       NaN     NaN            NaN  NaN    NaN   NaN   \n",
      "1            NextPage  NaN       NaN     NaN            NaN  NaN    NaN   NaN   \n",
      "2            NextPage  NaN       NaN     NaN            NaN  NaN    NaN   NaN   \n",
      "3            NextPage  NaN       NaN     NaN            NaN  NaN    NaN   NaN   \n",
      "4  FinishInstructions  NaN       NaN     NaN            NaN  NaN    NaN   NaN   \n",
      "\n",
      "   indexOf   n    ...                                             templates  \\\n",
      "0      NaN NaN    ...     [instructions/instruct-1.html, instructions/in...   \n",
      "1        0 NaN    ...                                                   NaN   \n",
      "2        1 NaN    ...                                                   NaN   \n",
      "3        2 NaN    ...                                                   NaN   \n",
      "4        3 NaN    ...                                                   NaN   \n",
      "\n",
      "  test_number type type-full                                       uniqueid  \\\n",
      "0         NaN  NaN       NaN  A2541C8MY0BYV3:39ZSFO5CA8XQL1UKLP312HRZXIRUJX   \n",
      "1         NaN  NaN       NaN  A2541C8MY0BYV3:39ZSFO5CA8XQL1UKLP312HRZXIRUJX   \n",
      "2         NaN  NaN       NaN  A2541C8MY0BYV3:39ZSFO5CA8XQL1UKLP312HRZXIRUJX   \n",
      "3         NaN  NaN       NaN  A2541C8MY0BYV3:39ZSFO5CA8XQL1UKLP312HRZXIRUJX   \n",
      "4         NaN  NaN       NaN  A2541C8MY0BYV3:39ZSFO5CA8XQL1UKLP312HRZXIRUJX   \n",
      "\n",
      "  user_input verb viewTime whichCond whichLang  \n",
      "0        NaN  NaN      NaN       NaN       NaN  \n",
      "1        NaN  NaN     7650       NaN       NaN  \n",
      "2        NaN  NaN   109297       NaN       NaN  \n",
      "3        NaN  NaN    12510       NaN       NaN  \n",
      "4        NaN  NaN     1634       NaN       NaN  \n",
      "\n",
      "[5 rows x 27 columns]\n"
     ]
    }
   ],
   "source": [
    "# get all of the unique subject IDs, then check subject tracking to make sure they match\n",
    "print data_frame.head()"
   ]
  },
  {
   "cell_type": "code",
   "execution_count": 8,
   "metadata": {
    "collapsed": false
   },
   "outputs": [],
   "source": [
    "#load subject tracking sheet\n",
    "#tracking_sheet = DATA_PATH+'subject-tracking/'+exp_id+'-'+exp_title+'-track.csv'\n",
    "#subj_track = pd.read_csv(tracking_sheet)\n",
    "\n",
    "#merge subject tracking with data\n",
    "#data_frame = pd.merge(data_frame, subj_track, on='uniqueid')\n",
    "\n",
    "#summary_data = data_frame.groupby(['condition', 'counterbalance', 'phase','uniqueid' ], as_index=False)['n'].count()\n",
    "#g = sns.FacetGrid(data_frame, row=\"whichLang\", col=\"whichCond\", margin_titles=True)\n",
    "#g.map(sns.regplot, \"phase\", \"uniqueid\", color=\".3\", fit_reg=False, x_jitter=.1);\n",
    "#summary_data.pivot(columns=\"phase\", value=\"n\")"
   ]
  },
  {
   "cell_type": "code",
   "execution_count": 9,
   "metadata": {
    "collapsed": false,
    "scrolled": false
   },
   "outputs": [],
   "source": [
    "# isolate the instruction sections\n",
    "data_instructions = data_frame[data_frame.phase == 'INSTRUCTIONS']\n",
    "data_instructions = data_instructions[['action', 'phase', 'template', 'uniqueid', 'viewTime']]\n",
    "\n",
    "# isolate the exposure phase\n",
    "data_production = data_frame[data_frame.phase == 'production']\n",
    "data_production = data_production[['phase', 'uniqueid', 'condition', 'counterbalance', 'n', 'verb', 'noun', 'det', 'test_number', 'type','user_input']]\n",
    "data_production = data_production.dropna()\n",
    "\n",
    "# isolate the rating phase\n",
    "data_rating = data_frame[data_frame.phase == 'rating']\n",
    "#data_rating = data_rating.rename(columns={'cat': 'type-full'})\n",
    "data_rating = data_rating[['phase', 'uniqueid', 'condition', 'counterbalance','n', 'verb', 'noun', 'det', 'number', 'type', 'error','user_input']]\n",
    "data_rating = data_rating.dropna()\n",
    "\n",
    "# merge these two together\n",
    "prod_and_rate = data_frame.query('phase in [\"production\", \"rating\"]' )\n",
    "prod_and_rate = prod_and_rate[['condition', 'counterbalance', 'det', 'n', 'noun', 'phase', 'number', 'type', 'uniqueid', 'verb', 'user_input']]\n",
    "prod_and_rate = prod_and_rate.dropna()\n"
   ]
  },
  {
   "cell_type": "code",
   "execution_count": 10,
   "metadata": {
    "collapsed": false
   },
   "outputs": [
    {
     "name": "stdout",
     "output_type": "stream",
     "text": [
      "       phase                                       uniqueid condition  \\\n",
      "214   rating  A2541C8MY0BYV3:39ZSFO5CA8XQL1UKLP312HRZXIRUJX         1   \n",
      "215   rating  A2541C8MY0BYV3:39ZSFO5CA8XQL1UKLP312HRZXIRUJX         1   \n",
      "216   rating  A2541C8MY0BYV3:39ZSFO5CA8XQL1UKLP312HRZXIRUJX         1   \n",
      "217   rating  A2541C8MY0BYV3:39ZSFO5CA8XQL1UKLP312HRZXIRUJX         1   \n",
      "218   rating  A2541C8MY0BYV3:39ZSFO5CA8XQL1UKLP312HRZXIRUJX         1   \n",
      "219   rating  A2541C8MY0BYV3:39ZSFO5CA8XQL1UKLP312HRZXIRUJX         1   \n",
      "220   rating  A2541C8MY0BYV3:39ZSFO5CA8XQL1UKLP312HRZXIRUJX         1   \n",
      "221   rating  A2541C8MY0BYV3:39ZSFO5CA8XQL1UKLP312HRZXIRUJX         1   \n",
      "222   rating  A2541C8MY0BYV3:39ZSFO5CA8XQL1UKLP312HRZXIRUJX         1   \n",
      "223   rating  A2541C8MY0BYV3:39ZSFO5CA8XQL1UKLP312HRZXIRUJX         1   \n",
      "224   rating  A2541C8MY0BYV3:39ZSFO5CA8XQL1UKLP312HRZXIRUJX         1   \n",
      "225   rating  A2541C8MY0BYV3:39ZSFO5CA8XQL1UKLP312HRZXIRUJX         1   \n",
      "226   rating  A2541C8MY0BYV3:39ZSFO5CA8XQL1UKLP312HRZXIRUJX         1   \n",
      "227   rating  A2541C8MY0BYV3:39ZSFO5CA8XQL1UKLP312HRZXIRUJX         1   \n",
      "228   rating  A2541C8MY0BYV3:39ZSFO5CA8XQL1UKLP312HRZXIRUJX         1   \n",
      "230   rating  A2541C8MY0BYV3:39ZSFO5CA8XQL1UKLP312HRZXIRUJX         1   \n",
      "231   rating  A2541C8MY0BYV3:39ZSFO5CA8XQL1UKLP312HRZXIRUJX         1   \n",
      "232   rating  A2541C8MY0BYV3:39ZSFO5CA8XQL1UKLP312HRZXIRUJX         1   \n",
      "233   rating  A2541C8MY0BYV3:39ZSFO5CA8XQL1UKLP312HRZXIRUJX         1   \n",
      "234   rating  A2541C8MY0BYV3:39ZSFO5CA8XQL1UKLP312HRZXIRUJX         1   \n",
      "235   rating  A2541C8MY0BYV3:39ZSFO5CA8XQL1UKLP312HRZXIRUJX         1   \n",
      "236   rating  A2541C8MY0BYV3:39ZSFO5CA8XQL1UKLP312HRZXIRUJX         1   \n",
      "237   rating  A2541C8MY0BYV3:39ZSFO5CA8XQL1UKLP312HRZXIRUJX         1   \n",
      "238   rating  A2541C8MY0BYV3:39ZSFO5CA8XQL1UKLP312HRZXIRUJX         1   \n",
      "239   rating  A2541C8MY0BYV3:39ZSFO5CA8XQL1UKLP312HRZXIRUJX         1   \n",
      "240   rating  A2541C8MY0BYV3:39ZSFO5CA8XQL1UKLP312HRZXIRUJX         1   \n",
      "241   rating  A2541C8MY0BYV3:39ZSFO5CA8XQL1UKLP312HRZXIRUJX         1   \n",
      "242   rating  A2541C8MY0BYV3:39ZSFO5CA8XQL1UKLP312HRZXIRUJX         1   \n",
      "243   rating  A2541C8MY0BYV3:39ZSFO5CA8XQL1UKLP312HRZXIRUJX         1   \n",
      "244   rating  A2541C8MY0BYV3:39ZSFO5CA8XQL1UKLP312HRZXIRUJX         1   \n",
      "...      ...                                            ...       ...   \n",
      "9146  rating  A1O81SOPKHK5RZ:3WSELTNVR330KVCRRE0E4M2EQT5TAU         0   \n",
      "9147  rating  A1O81SOPKHK5RZ:3WSELTNVR330KVCRRE0E4M2EQT5TAU         0   \n",
      "9148  rating  A1O81SOPKHK5RZ:3WSELTNVR330KVCRRE0E4M2EQT5TAU         0   \n",
      "9149  rating  A1O81SOPKHK5RZ:3WSELTNVR330KVCRRE0E4M2EQT5TAU         0   \n",
      "9150  rating  A1O81SOPKHK5RZ:3WSELTNVR330KVCRRE0E4M2EQT5TAU         0   \n",
      "9151  rating  A1O81SOPKHK5RZ:3WSELTNVR330KVCRRE0E4M2EQT5TAU         0   \n",
      "9152  rating  A1O81SOPKHK5RZ:3WSELTNVR330KVCRRE0E4M2EQT5TAU         0   \n",
      "9153  rating  A1O81SOPKHK5RZ:3WSELTNVR330KVCRRE0E4M2EQT5TAU         0   \n",
      "9154  rating  A1O81SOPKHK5RZ:3WSELTNVR330KVCRRE0E4M2EQT5TAU         0   \n",
      "9155  rating  A1O81SOPKHK5RZ:3WSELTNVR330KVCRRE0E4M2EQT5TAU         0   \n",
      "9156  rating  A1O81SOPKHK5RZ:3WSELTNVR330KVCRRE0E4M2EQT5TAU         0   \n",
      "9157  rating  A1O81SOPKHK5RZ:3WSELTNVR330KVCRRE0E4M2EQT5TAU         0   \n",
      "9158  rating  A1O81SOPKHK5RZ:3WSELTNVR330KVCRRE0E4M2EQT5TAU         0   \n",
      "9159  rating  A1O81SOPKHK5RZ:3WSELTNVR330KVCRRE0E4M2EQT5TAU         0   \n",
      "9160  rating  A1O81SOPKHK5RZ:3WSELTNVR330KVCRRE0E4M2EQT5TAU         0   \n",
      "9161  rating  A1O81SOPKHK5RZ:3WSELTNVR330KVCRRE0E4M2EQT5TAU         0   \n",
      "9162  rating  A1O81SOPKHK5RZ:3WSELTNVR330KVCRRE0E4M2EQT5TAU         0   \n",
      "9163  rating  A1O81SOPKHK5RZ:3WSELTNVR330KVCRRE0E4M2EQT5TAU         0   \n",
      "9164  rating  A1O81SOPKHK5RZ:3WSELTNVR330KVCRRE0E4M2EQT5TAU         0   \n",
      "9165  rating  A1O81SOPKHK5RZ:3WSELTNVR330KVCRRE0E4M2EQT5TAU         0   \n",
      "9166  rating  A1O81SOPKHK5RZ:3WSELTNVR330KVCRRE0E4M2EQT5TAU         0   \n",
      "9167  rating  A1O81SOPKHK5RZ:3WSELTNVR330KVCRRE0E4M2EQT5TAU         0   \n",
      "9168  rating  A1O81SOPKHK5RZ:3WSELTNVR330KVCRRE0E4M2EQT5TAU         0   \n",
      "9169  rating  A1O81SOPKHK5RZ:3WSELTNVR330KVCRRE0E4M2EQT5TAU         0   \n",
      "9170  rating  A1O81SOPKHK5RZ:3WSELTNVR330KVCRRE0E4M2EQT5TAU         0   \n",
      "9171  rating  A1O81SOPKHK5RZ:3WSELTNVR330KVCRRE0E4M2EQT5TAU         0   \n",
      "9172  rating  A1O81SOPKHK5RZ:3WSELTNVR330KVCRRE0E4M2EQT5TAU         0   \n",
      "9173  rating  A1O81SOPKHK5RZ:3WSELTNVR330KVCRRE0E4M2EQT5TAU         0   \n",
      "9174  rating  A1O81SOPKHK5RZ:3WSELTNVR330KVCRRE0E4M2EQT5TAU         0   \n",
      "9177  rating  A1O81SOPKHK5RZ:3WSELTNVR330KVCRRE0E4M2EQT5TAU         0   \n",
      "\n",
      "     counterbalance   n    verb        noun det number       type error  \\\n",
      "214               1   1  gentif     fumpogu  ka      5  incorrect    E3   \n",
      "215               1   2  gentif     rungmot  ka      3    correct     R   \n",
      "216               1   3  gentif  blergenfol  ka      5  incorrect   E14   \n",
      "217               1   4  gentif    pernisel  ka      5  incorrect    E9   \n",
      "218               1   5  gentif      melanu  ka      5  incorrect    E1   \n",
      "219               1   6  gentif       dilbu  ka      5  incorrect   E13   \n",
      "220               1   7  gentif        nerk  ka      3    correct     R   \n",
      "221               1   8  gentif       lomba  ka      5  incorrect   E11   \n",
      "222               1   9  gentif      mernot  ka      3    correct     R   \n",
      "223               1  10  gentif       sulto  ka      5  incorrect   E10   \n",
      "224               1  11  gentif      dugolu  ka      3    correct     R   \n",
      "225               1  12  gentif     flerbit  ka      5  incorrect   E18   \n",
      "226               1  13  gentif     slergen  ka      3    correct     R   \n",
      "227               1  14  gentif      klamin  ka      3    correct     R   \n",
      "228               1  15  gentif        mawg  ka      5  incorrect    E6   \n",
      "230               1  17  gentif      rinola  ka      5  incorrect    E4   \n",
      "231               1  18  gentif       kerno  ka      3    correct     R   \n",
      "232               1  19  gentif       misnu  ka      3    correct     R   \n",
      "233               1  20  gentif       blagu  ka      3    correct     R   \n",
      "234               1  21  gentif      melnog  ka      3    correct     R   \n",
      "235               1  22  gentif     ferluku  ka      5  incorrect    E5   \n",
      "236               1  23  gentif      zamper  ka      3    correct     R   \n",
      "237               1  24  gentif       gentu  ka      5  incorrect    E8   \n",
      "238               1  25  gentif    bampogin  ka      5  incorrect   E12   \n",
      "239               1  26  gentif     kowoltu  ka      3    correct     R   \n",
      "240               1  27  gentif     flombut  ka      5  incorrect   E17   \n",
      "241               1  28  gentif       nagru  ka      3    correct     R   \n",
      "242               1  29  gentif      blifen  ka      3    correct     R   \n",
      "243               1  30  gentif    flugerdo  ka      3    correct     R   \n",
      "244               1  31  gentif      blerfe  ka      5  incorrect    E2   \n",
      "...             ...  ..     ...         ...  ..    ...        ...   ...   \n",
      "9146              1   7  gentif      mazner  ka      5    correct     R   \n",
      "9147              1   8  gentif        mang  ka      3    correct     R   \n",
      "9148              1   9  gentif     slergen  ka      3    correct     R   \n",
      "9149              1  10  gentif       kerno  ka      3    correct     R   \n",
      "9150              1  11  gentif     ferluku  ka      5    correct     R   \n",
      "9151              1  12  gentif      zamper  ka      3    correct     R   \n",
      "9152              1  13  gentif       dilbu  ka      5    correct     R   \n",
      "9153              1  14  gentif     rungmot  ka      3    correct     R   \n",
      "9154              1  15  gentif    flugerdo  ka      3    correct     R   \n",
      "9155              1  16  gentif       gerko  ka      3    correct     R   \n",
      "9156              1  17  gentif     fumpogu  ka      5  incorrect    E3   \n",
      "9157              1  18  gentif       lomba  ka      5    correct     R   \n",
      "9158              1  19  gentif  blergenfol  ka      5    correct     R   \n",
      "9159              1  20  gentif        nerk  ka      3    correct     R   \n",
      "9160              1  21  gentif       nagru  ka      3    correct     R   \n",
      "9161              1  22  gentif       gentu  ka      5    correct     R   \n",
      "9162              1  23  gentif      melnog  ka      3    correct     R   \n",
      "9163              1  24  gentif       blagu  ka      3    correct     R   \n",
      "9164              1  25  gentif    pernisel  ka      5    correct     R   \n",
      "9165              1  26  gentif      rinola  ka      5  incorrect    E4   \n",
      "9166              1  27  gentif    bampogin  ka      5    correct     R   \n",
      "9167              1  28  gentif     flerbit  ka      5    correct     R   \n",
      "9168              1  29  gentif      klamin  ka      3    correct     R   \n",
      "9169              1  30  gentif       miktu  ka      5    correct     R   \n",
      "9170              1  31  gentif      mernot  ka      3    correct     R   \n",
      "9171              1  32  gentif        mawg  ka      5    correct     R   \n",
      "9172              1  33  gentif       sulto  ka      5    correct     R   \n",
      "9173              1  34  gentif      ladnuh  ka      5    correct     R   \n",
      "9174              1  35  gentif      blifen  ka      3    correct     R   \n",
      "9177              1  36  gentif     flombut  ka      5    correct     R   \n",
      "\n",
      "     user_input  \n",
      "214           4  \n",
      "215           4  \n",
      "216           4  \n",
      "217           3  \n",
      "218           5  \n",
      "219           3  \n",
      "220           4  \n",
      "221           2  \n",
      "222           3  \n",
      "223           5  \n",
      "224           5  \n",
      "225           4  \n",
      "226           4  \n",
      "227           4  \n",
      "228           5  \n",
      "230           4  \n",
      "231           3  \n",
      "232           5  \n",
      "233           5  \n",
      "234           5  \n",
      "235           5  \n",
      "236           5  \n",
      "237           5  \n",
      "238           4  \n",
      "239           2  \n",
      "240           5  \n",
      "241           5  \n",
      "242           2  \n",
      "243           4  \n",
      "244           4  \n",
      "...         ...  \n",
      "9146          4  \n",
      "9147          4  \n",
      "9148          4  \n",
      "9149          4  \n",
      "9150          4  \n",
      "9151          4  \n",
      "9152          4  \n",
      "9153          3  \n",
      "9154          4  \n",
      "9155          4  \n",
      "9156          4  \n",
      "9157          4  \n",
      "9158          4  \n",
      "9159          4  \n",
      "9160          3  \n",
      "9161          4  \n",
      "9162          2  \n",
      "9163          4  \n",
      "9164          5  \n",
      "9165          4  \n",
      "9166          3  \n",
      "9167          4  \n",
      "9168          4  \n",
      "9169          4  \n",
      "9170          4  \n",
      "9171          4  \n",
      "9172          3  \n",
      "9173          4  \n",
      "9174          3  \n",
      "9177          3  \n",
      "\n",
      "[1274 rows x 12 columns]\n"
     ]
    }
   ],
   "source": [
    "# summary_data = prod_and_rate.groupby(['condition', 'counterbalance', 'phase','uniqueid'], as_index = False)['uniqueid'].count()\n",
    "# #g = sns.FacetGrid(summary_data, row=\"condition\", col=\"counterbalance\", margin_titles=True)\n",
    "# #g.map(sns.regplot, \"phase\", \"uniqueid\", color=\".3\", fit_reg=False, x_jitter=.1);\n",
    "# #summary_data.pivot(columns=\"phase\", value=\"n\")\n",
    "# print summary_data\n",
    "print data_rating"
   ]
  },
  {
   "cell_type": "code",
   "execution_count": 11,
   "metadata": {
    "collapsed": false
   },
   "outputs": [
    {
     "data": {
      "text/plain": [
       "A3CIUPLZ6614U2:34S6N1K2ZVKRB5C0OB8FZHF197GLHT    36\n",
       "A1A3YOE4YCYM4E:34X6J5FLPTZYT8N34GJWSGUAV42JQD    36\n",
       "A2DWPP1KKAY0HG:3XLBSAQ9Z4DEN5NSQ3DCGJ159CMZ7F    36\n",
       "A1O81SOPKHK5RZ:3WSELTNVR330KVCRRE0E4M2EQT5TAU    36\n",
       "A3MEXVF979S444:3C2NJ6JBKAIDKFC3H3LNP5DONBDN2C    36\n",
       "A2RVEG53L48BAE:3A0EX8ZRN8P1KRGD7YN97EEZN8VYBW    36\n",
       "A1XUZFDVKP95VC:35H6S234SA1XCRPY0514L1UEDYS565    36\n",
       "A1219SY7CR1UWP:3YW4XOSQKQMJQKEGV0XVYHVD487U1O    36\n",
       "AGDFBU9CK6Z9R:3ATTHHXXWAPM7U498CTOANB3GSLIXJ     36\n",
       "A1YM0IWPC72J7V:3IQ1VMJRYTLH0G3DT8VXDM12WHQ9AO    36\n",
       "A289D98Z4GAZ28:3WYP994K17SVEFZIB761WYS79BQ6YX    36\n",
       "AU849EHZNGV2Z:3HHRAGRYX8662KXE3R0FEHL7LYTO91     36\n",
       "AAM0Q3DCSSQ0A:3JZQSN0I3QBRBH7TIUNZJ4YGXAXGFY     36\n",
       "A36470UBRH28GO:3II4UPYCOJ8LQMNBUKXLPIZXQFEQD5    36\n",
       "A32QJF67JMJFKX:3MD9PLUKKIF3QQFF6AU1CGNV8KBZNV    36\n",
       "AK8ONB60Q4RJ5:3GGAI1SQEVZK0FJ52VVTO3XAUCFMCJ     36\n",
       "A6HR4PTSCMZ4L:3LBXNTKX0RWTWTB64INBXUC0W2DX9T     36\n",
       "A1A3TGZ7DKJWRW:3GGAI1SQEVZK0FJ52VVTO3XAWJHMC1    36\n",
       "A1CE2XPYCDRHVZ:358UUM7WRZ45LE11GMJZUGZ61VPR71    36\n",
       "A1K75ALN5NQIJM:308XBLVESI5SNQ4RT3VFZIL2KLGRBN    36\n",
       "A10DEO061A6L3O:30BXRYBRP4Y7MZOZSPFH8SWH6DEWHO    36\n",
       "A3SYKB6GWHMFFP:39LOEL67OS6H2QLIF1A9QISL61F38W    36\n",
       "A3AY0315YWWNXY:3QAVNHZ3EM5C1I4MI5YNIVSXU45AL4    36\n",
       "A2AAY4VT9L71SY:37WLF8U1WPR0UAA17S5ANQDWBSC6KP    35\n",
       "A2541C8MY0BYV3:39ZSFO5CA8XQL1UKLP312HRZXIRUJX    35\n",
       "A2S8RNEB8PLU0S:38YMOXR4MU0RPA4IW6ODB17RY246WA    35\n",
       "A2WAQLPXT615HQ:36ZN444YTRZZDLQH7L6SRAKA4OGOIK    35\n",
       "A1YZ0ETOCJO1B2:3018Q3ZVOIRN4GZZNPVJ471W23VARB    35\n",
       "A1ZRK6K5JUPJAV:3YW4XOSQKQMJQKEGV0XVYHVD4881UW    35\n",
       "A2C39KTRMOM1XZ:3FTOP5WARFPA5FI4NIPHDA3SI03J0E    35\n",
       "A2UX7ZJEGGU5:33LKR6A5KEL4Q7ZRVV7LTL9BMUMT1J      34\n",
       "A5EU1AQJNC7F2:3VFJCI1K4Z0OE7C29PNT0TCZYR6RGM     34\n",
       "AZVQ8TJ73ZGKM:3D4CH1LGEAUIA7GGF8N798C5UFKG9U     34\n",
       "ATKG4FI2S5MVL:3ZAZR5XV01JKZMIOHKLNW5TJBNZCZ8     34\n",
       "A2O5OJXCUFQ3FV:3WMINLGALB4JYEAG5S5OFC2A127CAL    33\n",
       "A154X03NKVZZL1:3DBQWDE4Y6Z5JCVQZMNLNCG09S55NC    32\n",
       "dtype: int64"
      ]
     },
     "execution_count": 11,
     "metadata": {},
     "output_type": "execute_result"
    }
   ],
   "source": [
    "#make sure every subject does all 18 of the ratings.\n",
    "data_rating.uniqueid.value_counts()"
   ]
  },
  {
   "cell_type": "code",
   "execution_count": 12,
   "metadata": {
    "collapsed": false
   },
   "outputs": [
    {
     "name": "stdout",
     "output_type": "stream",
     "text": [
      "200     gentif daggin ka\n",
      "201    gentif bleggin ka\n",
      "202        gentif sep mo\n",
      "203       gentif norg ka\n",
      "204       gentif norg pa\n",
      "Name: user_input, dtype: object\n"
     ]
    }
   ],
   "source": [
    "# get what noun and determiner they said\n",
    "print data_production['user_input'].head()\n",
    "\n",
    "splits = data_production['user_input'].str.split()\n",
    "data_production['det_prod'] = splits.str[2]\n",
    "data_production['noun-prod'] = splits.str[1]\n",
    "\n",
    "\n",
    "data_rating.to_csv(\"/Users/kathrynschuler/Desktop/rating.csv\")\n",
    "data_production.to_csv(\"/Users/kathrynschuler/Desktop/production.csv\")"
   ]
  },
  {
   "cell_type": "code",
   "execution_count": 16,
   "metadata": {
    "collapsed": false
   },
   "outputs": [
    {
     "ename": "TypeError",
     "evalue": "sequence item 3: expected string or Unicode, float found",
     "output_type": "error",
     "traceback": [
      "\u001b[0;31m---------------------------------------------------------------------------\u001b[0m",
      "\u001b[0;31mTypeError\u001b[0m                                 Traceback (most recent call last)",
      "\u001b[0;32m<ipython-input-16-0ca54894b38a>\u001b[0m in \u001b[0;36m<module>\u001b[0;34m()\u001b[0m\n\u001b[1;32m      5\u001b[0m \u001b[0;31m# out of 16 trials, how many of them are ka/po for each subject - let's look at each subject\u001b[0m\u001b[0;34m\u001b[0m\u001b[0;34m\u001b[0m\u001b[0m\n\u001b[1;32m      6\u001b[0m \u001b[0mprod_subj\u001b[0m \u001b[0;34m=\u001b[0m \u001b[0mka_po_production\u001b[0m\u001b[0;34m.\u001b[0m\u001b[0mgroupby\u001b[0m\u001b[0;34m(\u001b[0m\u001b[0;34m[\u001b[0m\u001b[0;34m'uniqueid'\u001b[0m\u001b[0;34m]\u001b[0m\u001b[0;34m,\u001b[0m \u001b[0msort\u001b[0m\u001b[0;34m=\u001b[0m\u001b[0mTrue\u001b[0m\u001b[0;34m)\u001b[0m\u001b[0;34m[\u001b[0m\u001b[0;34m'det_prod'\u001b[0m\u001b[0;34m]\u001b[0m\u001b[0;34m.\u001b[0m\u001b[0msum\u001b[0m\u001b[0;34m(\u001b[0m\u001b[0;34m)\u001b[0m\u001b[0;34m\u001b[0m\u001b[0m\n\u001b[0;32m----> 7\u001b[0;31m \u001b[0mprod_subj2\u001b[0m \u001b[0;34m=\u001b[0m \u001b[0mdata_production\u001b[0m\u001b[0;34m.\u001b[0m\u001b[0mgroupby\u001b[0m\u001b[0;34m(\u001b[0m\u001b[0;34m[\u001b[0m\u001b[0;34m'uniqueid'\u001b[0m\u001b[0;34m]\u001b[0m\u001b[0;34m,\u001b[0m \u001b[0msort\u001b[0m\u001b[0;34m=\u001b[0m\u001b[0mTrue\u001b[0m\u001b[0;34m)\u001b[0m\u001b[0;34m[\u001b[0m\u001b[0;34m'det_prod'\u001b[0m\u001b[0;34m]\u001b[0m\u001b[0;34m.\u001b[0m\u001b[0mapply\u001b[0m\u001b[0;34m(\u001b[0m\u001b[0;32mlambda\u001b[0m \u001b[0mx\u001b[0m\u001b[0;34m:\u001b[0m \u001b[0;34m\"{%s}\"\u001b[0m \u001b[0;34m%\u001b[0m \u001b[0;34m', '\u001b[0m\u001b[0;34m.\u001b[0m\u001b[0mjoin\u001b[0m\u001b[0;34m(\u001b[0m\u001b[0mx\u001b[0m\u001b[0;34m)\u001b[0m\u001b[0;34m)\u001b[0m\u001b[0;34m\u001b[0m\u001b[0m\n\u001b[0m\u001b[1;32m      8\u001b[0m \u001b[0;32mprint\u001b[0m \u001b[0mprod_subj2\u001b[0m\u001b[0;34m\u001b[0m\u001b[0m\n",
      "\u001b[0;32m/Users/kathrynschuler/anaconda/lib/python2.7/site-packages/pandas/core/groupby.pyc\u001b[0m in \u001b[0;36mapply\u001b[0;34m(self, func, *args, **kwargs)\u001b[0m\n\u001b[1;32m    660\u001b[0m         \u001b[0;31m# ignore SettingWithCopy here in case the user mutates\u001b[0m\u001b[0;34m\u001b[0m\u001b[0;34m\u001b[0m\u001b[0m\n\u001b[1;32m    661\u001b[0m         \u001b[0;32mwith\u001b[0m \u001b[0moption_context\u001b[0m\u001b[0;34m(\u001b[0m\u001b[0;34m'mode.chained_assignment'\u001b[0m\u001b[0;34m,\u001b[0m\u001b[0mNone\u001b[0m\u001b[0;34m)\u001b[0m\u001b[0;34m:\u001b[0m\u001b[0;34m\u001b[0m\u001b[0m\n\u001b[0;32m--> 662\u001b[0;31m             \u001b[0;32mreturn\u001b[0m \u001b[0mself\u001b[0m\u001b[0;34m.\u001b[0m\u001b[0m_python_apply_general\u001b[0m\u001b[0;34m(\u001b[0m\u001b[0mf\u001b[0m\u001b[0;34m)\u001b[0m\u001b[0;34m\u001b[0m\u001b[0m\n\u001b[0m\u001b[1;32m    663\u001b[0m \u001b[0;34m\u001b[0m\u001b[0m\n\u001b[1;32m    664\u001b[0m     \u001b[0;32mdef\u001b[0m \u001b[0m_python_apply_general\u001b[0m\u001b[0;34m(\u001b[0m\u001b[0mself\u001b[0m\u001b[0;34m,\u001b[0m \u001b[0mf\u001b[0m\u001b[0;34m)\u001b[0m\u001b[0;34m:\u001b[0m\u001b[0;34m\u001b[0m\u001b[0m\n",
      "\u001b[0;32m/Users/kathrynschuler/anaconda/lib/python2.7/site-packages/pandas/core/groupby.pyc\u001b[0m in \u001b[0;36m_python_apply_general\u001b[0;34m(self, f)\u001b[0m\n\u001b[1;32m    664\u001b[0m     \u001b[0;32mdef\u001b[0m \u001b[0m_python_apply_general\u001b[0m\u001b[0;34m(\u001b[0m\u001b[0mself\u001b[0m\u001b[0;34m,\u001b[0m \u001b[0mf\u001b[0m\u001b[0;34m)\u001b[0m\u001b[0;34m:\u001b[0m\u001b[0;34m\u001b[0m\u001b[0m\n\u001b[1;32m    665\u001b[0m         keys, values, mutated = self.grouper.apply(f, self._selected_obj,\n\u001b[0;32m--> 666\u001b[0;31m                                                    self.axis)\n\u001b[0m\u001b[1;32m    667\u001b[0m \u001b[0;34m\u001b[0m\u001b[0m\n\u001b[1;32m    668\u001b[0m         return self._wrap_applied_output(keys, values,\n",
      "\u001b[0;32m/Users/kathrynschuler/anaconda/lib/python2.7/site-packages/pandas/core/groupby.pyc\u001b[0m in \u001b[0;36mapply\u001b[0;34m(self, f, data, axis)\u001b[0m\n\u001b[1;32m   1288\u001b[0m             \u001b[0;31m# group might be modified\u001b[0m\u001b[0;34m\u001b[0m\u001b[0;34m\u001b[0m\u001b[0m\n\u001b[1;32m   1289\u001b[0m             \u001b[0mgroup_axes\u001b[0m \u001b[0;34m=\u001b[0m \u001b[0m_get_axes\u001b[0m\u001b[0;34m(\u001b[0m\u001b[0mgroup\u001b[0m\u001b[0;34m)\u001b[0m\u001b[0;34m\u001b[0m\u001b[0m\n\u001b[0;32m-> 1290\u001b[0;31m             \u001b[0mres\u001b[0m \u001b[0;34m=\u001b[0m \u001b[0mf\u001b[0m\u001b[0;34m(\u001b[0m\u001b[0mgroup\u001b[0m\u001b[0;34m)\u001b[0m\u001b[0;34m\u001b[0m\u001b[0m\n\u001b[0m\u001b[1;32m   1291\u001b[0m             \u001b[0;32mif\u001b[0m \u001b[0;32mnot\u001b[0m \u001b[0m_is_indexed_like\u001b[0m\u001b[0;34m(\u001b[0m\u001b[0mres\u001b[0m\u001b[0;34m,\u001b[0m \u001b[0mgroup_axes\u001b[0m\u001b[0;34m)\u001b[0m\u001b[0;34m:\u001b[0m\u001b[0;34m\u001b[0m\u001b[0m\n\u001b[1;32m   1292\u001b[0m                 \u001b[0mmutated\u001b[0m \u001b[0;34m=\u001b[0m \u001b[0mTrue\u001b[0m\u001b[0;34m\u001b[0m\u001b[0m\n",
      "\u001b[0;32m/Users/kathrynschuler/anaconda/lib/python2.7/site-packages/pandas/core/groupby.pyc\u001b[0m in \u001b[0;36mf\u001b[0;34m(g)\u001b[0m\n\u001b[1;32m    656\u001b[0m         \u001b[0;34m@\u001b[0m\u001b[0mwraps\u001b[0m\u001b[0;34m(\u001b[0m\u001b[0mfunc\u001b[0m\u001b[0;34m)\u001b[0m\u001b[0;34m\u001b[0m\u001b[0m\n\u001b[1;32m    657\u001b[0m         \u001b[0;32mdef\u001b[0m \u001b[0mf\u001b[0m\u001b[0;34m(\u001b[0m\u001b[0mg\u001b[0m\u001b[0;34m)\u001b[0m\u001b[0;34m:\u001b[0m\u001b[0;34m\u001b[0m\u001b[0m\n\u001b[0;32m--> 658\u001b[0;31m             \u001b[0;32mreturn\u001b[0m \u001b[0mfunc\u001b[0m\u001b[0;34m(\u001b[0m\u001b[0mg\u001b[0m\u001b[0;34m,\u001b[0m \u001b[0;34m*\u001b[0m\u001b[0margs\u001b[0m\u001b[0;34m,\u001b[0m \u001b[0;34m**\u001b[0m\u001b[0mkwargs\u001b[0m\u001b[0;34m)\u001b[0m\u001b[0;34m\u001b[0m\u001b[0m\n\u001b[0m\u001b[1;32m    659\u001b[0m \u001b[0;34m\u001b[0m\u001b[0m\n\u001b[1;32m    660\u001b[0m         \u001b[0;31m# ignore SettingWithCopy here in case the user mutates\u001b[0m\u001b[0;34m\u001b[0m\u001b[0;34m\u001b[0m\u001b[0m\n",
      "\u001b[0;32m<ipython-input-16-0ca54894b38a>\u001b[0m in \u001b[0;36m<lambda>\u001b[0;34m(x)\u001b[0m\n\u001b[1;32m      5\u001b[0m \u001b[0;31m# out of 16 trials, how many of them are ka/po for each subject - let's look at each subject\u001b[0m\u001b[0;34m\u001b[0m\u001b[0;34m\u001b[0m\u001b[0m\n\u001b[1;32m      6\u001b[0m \u001b[0mprod_subj\u001b[0m \u001b[0;34m=\u001b[0m \u001b[0mka_po_production\u001b[0m\u001b[0;34m.\u001b[0m\u001b[0mgroupby\u001b[0m\u001b[0;34m(\u001b[0m\u001b[0;34m[\u001b[0m\u001b[0;34m'uniqueid'\u001b[0m\u001b[0;34m]\u001b[0m\u001b[0;34m,\u001b[0m \u001b[0msort\u001b[0m\u001b[0;34m=\u001b[0m\u001b[0mTrue\u001b[0m\u001b[0;34m)\u001b[0m\u001b[0;34m[\u001b[0m\u001b[0;34m'det_prod'\u001b[0m\u001b[0;34m]\u001b[0m\u001b[0;34m.\u001b[0m\u001b[0msum\u001b[0m\u001b[0;34m(\u001b[0m\u001b[0;34m)\u001b[0m\u001b[0;34m\u001b[0m\u001b[0m\n\u001b[0;32m----> 7\u001b[0;31m \u001b[0mprod_subj2\u001b[0m \u001b[0;34m=\u001b[0m \u001b[0mdata_production\u001b[0m\u001b[0;34m.\u001b[0m\u001b[0mgroupby\u001b[0m\u001b[0;34m(\u001b[0m\u001b[0;34m[\u001b[0m\u001b[0;34m'uniqueid'\u001b[0m\u001b[0;34m]\u001b[0m\u001b[0;34m,\u001b[0m \u001b[0msort\u001b[0m\u001b[0;34m=\u001b[0m\u001b[0mTrue\u001b[0m\u001b[0;34m)\u001b[0m\u001b[0;34m[\u001b[0m\u001b[0;34m'det_prod'\u001b[0m\u001b[0;34m]\u001b[0m\u001b[0;34m.\u001b[0m\u001b[0mapply\u001b[0m\u001b[0;34m(\u001b[0m\u001b[0;32mlambda\u001b[0m \u001b[0mx\u001b[0m\u001b[0;34m:\u001b[0m \u001b[0;34m\"{%s}\"\u001b[0m \u001b[0;34m%\u001b[0m \u001b[0;34m', '\u001b[0m\u001b[0;34m.\u001b[0m\u001b[0mjoin\u001b[0m\u001b[0;34m(\u001b[0m\u001b[0mx\u001b[0m\u001b[0;34m)\u001b[0m\u001b[0;34m)\u001b[0m\u001b[0;34m\u001b[0m\u001b[0m\n\u001b[0m\u001b[1;32m      8\u001b[0m \u001b[0;32mprint\u001b[0m \u001b[0mprod_subj2\u001b[0m\u001b[0;34m\u001b[0m\u001b[0m\n",
      "\u001b[0;31mTypeError\u001b[0m: sequence item 3: expected string or Unicode, float found"
     ]
    }
   ],
   "source": [
    "# let's only care about Ka and Po for today\n",
    "ka_po_production = data_production.query('det_prod in [\"Ka\", \"ka\", \"Ka.\", \"ka.\"]')\n",
    "\n",
    "\n",
    "# out of 16 trials, how many of them are ka/po for each subject - let's look at each subject\n",
    "prod_subj = ka_po_production.groupby(['uniqueid'], sort=True)['det_prod'].sum()\n",
    "prod_subj2 = data_production.groupby(['uniqueid'], sort=True)['det_prod'].apply(lambda x: \"{%s}\" % ', '.join(x))\n",
    "print prod_subj2"
   ]
  },
  {
   "cell_type": "code",
   "execution_count": 13,
   "metadata": {
    "collapsed": false
   },
   "outputs": [
    {
     "name": "stderr",
     "output_type": "stream",
     "text": [
      "/Users/kathrynschuler/anaconda/lib/python2.7/site-packages/IPython/extensions/rmagic.py:693: UserWarning: The rmagic extension in IPython is deprecated in favour of rpy2.ipython. If available, that will be loaded instead.\n",
      "http://rpy.sourceforge.net/\n",
      "  warnings.warn(\"The rmagic extension in IPython is deprecated in favour of \"\n"
     ]
    }
   ],
   "source": [
    "%load_ext rmagic\n",
    "%R -i prod_and_rate\n",
    "\n",
    "    "
   ]
  },
  {
   "cell_type": "code",
   "execution_count": 14,
   "metadata": {
    "collapsed": false
   },
   "outputs": [
    {
     "data": {
      "text/plain": [
       "    condition counterbalance  det n   noun      phase number  type\n",
       "192         1              0 null 1   norg production      1 novel\n",
       "193         1              0 null 2   geed production      1 novel\n",
       "194         1              0 null 3 flugit production      1 novel\n",
       "195         1              0 null 4   geed production      1 novel\n",
       "196         1              0 null 5    sep production      1 novel\n",
       "197         1              0 null 6   norg production      1 novel\n",
       "                   uniqueid   verb       user_input\n",
       "192 debugKEHD9Q:debug45SXLV gentif   gentif norg ka\n",
       "193 debugKEHD9Q:debug45SXLV gentif   gentif geed ka\n",
       "194 debugKEHD9Q:debug45SXLV gentif gentif flugit ka\n",
       "195 debugKEHD9Q:debug45SXLV gentif   gentif geed ka\n",
       "196 debugKEHD9Q:debug45SXLV gentif  gentif sep null\n",
       "197 debugKEHD9Q:debug45SXLV gentif gentif norg null\n"
      ]
     },
     "metadata": {},
     "output_type": "display_data"
    }
   ],
   "source": [
    "%%R\n",
    "\n",
    "summary(prod_and_rate)\n",
    "head(prod_and_rate)"
   ]
  },
  {
   "cell_type": "code",
   "execution_count": null,
   "metadata": {
    "collapsed": false
   },
   "outputs": [],
   "source": [
    "%R install.packages('reshape')\n"
   ]
  },
  {
   "cell_type": "code",
   "execution_count": null,
   "metadata": {
    "collapsed": false
   },
   "outputs": [],
   "source": [
    "%%R\n",
    "library(reshape)\n",
    "cast(prod_and_rate, uniqueid ~ phase)"
   ]
  },
  {
   "cell_type": "code",
   "execution_count": null,
   "metadata": {
    "collapsed": true
   },
   "outputs": [],
   "source": [
    "%R -i data_rating"
   ]
  },
  {
   "cell_type": "code",
   "execution_count": null,
   "metadata": {
    "collapsed": true
   },
   "outputs": [],
   "source": [
    "%R -i data_production"
   ]
  },
  {
   "cell_type": "code",
   "execution_count": null,
   "metadata": {
    "collapsed": false
   },
   "outputs": [],
   "source": [
    "%%R\n",
    "\n",
    "summary(data_rating)"
   ]
  },
  {
   "cell_type": "code",
   "execution_count": null,
   "metadata": {
    "collapsed": false
   },
   "outputs": [],
   "source": [
    "%%R\n",
    "library(plyr)\n",
    "library(ggplot2)\n",
    "install.packages('doBy')"
   ]
  },
  {
   "cell_type": "code",
   "execution_count": null,
   "metadata": {
    "collapsed": false
   },
   "outputs": [],
   "source": [
    "%%R\n",
    "levels(data_rating$condition) <- c(\"5 Rule | 4 Exception\", \"3 Rule | 6 Exception\")\n",
    "levels(data_production$condition) <- c(\"5 Rule | 4 Exception\", \"3 Rule | 6 Exception\")\n",
    "print(data_rating)\n",
    "#rename(data_rating, c(\"type.full\"=\"cat\"))"
   ]
  },
  {
   "cell_type": "code",
   "execution_count": null,
   "metadata": {
    "collapsed": false
   },
   "outputs": [],
   "source": [
    "%%R\n",
    "# With a data set with NA's, use na.rm=TRUE\n",
    "## Summarizes data.\n",
    "## Gives count, mean, standard deviation, standard error of the mean, and confidence \n",
    "## interval (default 95%).\n",
    "##   data: a data frame.\n",
    "##   measurevar: the name of a column that contains the variable to be summariezed\n",
    "##   groupvars: a vector containing names of columns that contain grouping variables\n",
    "##   na.rm: a boolean that indicates whether to ignore NA's\n",
    "##   conf.interval: the percent range of the confidence interval (default is 95%)\n",
    "summarySE <- function(data=NULL, measurevar, groupvars=NULL, na.rm=FALSE, conf.interval=.95) {\n",
    "    library(doBy)\n",
    "\n",
    "    # New version of length which can handle NA's: if na.rm==T, don't count them\n",
    "    length2 <- function (x, na.rm=FALSE) {\n",
    "        if (na.rm) sum(!is.na(x))\n",
    "        else       length(x)\n",
    "    }\n",
    "\n",
    "    # Collapse the data\n",
    "    formula <- as.formula(paste(measurevar, paste(groupvars, collapse=\" + \"), sep=\" ~ \"))\n",
    "    datac <- summaryBy(formula, data=data, FUN=c(length2,mean,sd), na.rm=na.rm)\n",
    "\n",
    "    # Rename columns\n",
    "    names(datac)[ names(datac) == paste(measurevar, \".mean\",    sep=\"\") ] <- measurevar\n",
    "    names(datac)[ names(datac) == paste(measurevar, \".sd\",      sep=\"\") ] <- \"sd\"\n",
    "    names(datac)[ names(datac) == paste(measurevar, \".length2\", sep=\"\") ] <- \"N\"\n",
    "    \n",
    "    datac$se <- datac$sd / sqrt(datac$N)  # Calculate standard error of the mean\n",
    "    \n",
    "    # Confidence interval multiplier for standard error\n",
    "    # Calculate t-statistic for confidence interval: \n",
    "    # e.g., if conf.interval is .95, use .975 (above/below), and use df=N-1\n",
    "    ciMult <- qt(conf.interval/2 + .5, datac$N-1)\n",
    "    datac$ci <- datac$se * ciMult\n",
    "    \n",
    "    return(datac)\n",
    "}\n",
    "det <- c('ka', 'po', 'lee','bae', 'tay', 'muy', 'woo')\n",
    "detcat <- c('ka', 'non-ka', 'non-ka', 'non-ka', 'non-ka', 'non-ka', 'non-ka')\n",
    "\n",
    "df <- data.frame(det, detcat)\n",
    "dr <- merge(data_rating, df, by=\"det\")\n",
    "\n",
    "        \n",
    "sum_data_rating = summarySE(dr, measurevar=\"user_input\", groupvars=c(\"condition\", \"error\",\"detcat\"), na.rm=TRUE)\n",
    "print(sum_data_rating)"
   ]
  },
  {
   "cell_type": "code",
   "execution_count": null,
   "metadata": {
    "collapsed": true
   },
   "outputs": [],
   "source": []
  },
  {
   "cell_type": "code",
   "execution_count": null,
   "metadata": {
    "collapsed": false
   },
   "outputs": [],
   "source": [
    "%%R\n",
    "#print(sum_data_rating)\n",
    "# Use dose as a factor rather than numeric\n",
    "#dr <- sum_data_rating\n",
    "sum_data_rating$condition <- factor(sum_data_rating$condition)\n",
    "\n",
    "# Error bars represent standard error of the mean\n",
    "g = ggplot(sum_data_rating, aes(x=error, y=user_input, fill=detcat)) + \n",
    "    geom_bar(position=position_dodge(), stat=\"identity\", colour=\"black\") +theme_classic()+ coord_cartesian(ylim=c(1.0,5.0)) + \n",
    "    facet_grid(~ condition) + scale_fill_manual(values=c(\"#111111\", \"#999999\"))+ylab(\"Rating\")+xlab(\"\")\n",
    "\n",
    "g = g + theme(axis.ticks=element_blank(), legend.title=element_blank(), legend.background = element_rect(colour=\"#111111\",size=0.25), legend.position=c(0.1,0.925))\n",
    "\n",
    "g +geom_errorbar(aes(ymin=user_input-se, ymax=user_input+se), width=.2, position=position_dodge(.9))"
   ]
  },
  {
   "cell_type": "code",
   "execution_count": null,
   "metadata": {
    "collapsed": false
   },
   "outputs": [],
   "source": [
    "%%R\n",
    "\n"
   ]
  },
  {
   "cell_type": "code",
   "execution_count": null,
   "metadata": {
    "collapsed": false
   },
   "outputs": [],
   "source": [
    "%%R\n",
    "ggsave(\"0153-rating.png\")"
   ]
  },
  {
   "cell_type": "code",
   "execution_count": null,
   "metadata": {
    "collapsed": false
   },
   "outputs": [],
   "source": [
    "%%R\n",
    "head(data_production)\n",
    "det_prod <- unique(data_production$det_prod)\n",
    "print(det_prod)"
   ]
  },
  {
   "cell_type": "code",
   "execution_count": 29,
   "metadata": {
    "collapsed": false
   },
   "outputs": [],
   "source": [
    "%%R\n",
    "users_answer_cat = c('ka', 'other', 'ka', 'other', 'other', 'other', 'other', 'other', 'other', 'non-ka', 'non-ka', 'non-ka',\n",
    "                    'other', 'non-ka', 'other', 'other', 'other', 'other','other', 'non-ka', 'other', 'other', 'other', 'other',\n",
    "                    'other', 'other', 'other', 'other', 'other')\n",
    "ans_dict <- data.frame(det_prod, users_answer_cat)\n",
    "dp <- merge(data_production, ans_dict, on=det_prod)"
   ]
  },
  {
   "cell_type": "code",
   "execution_count": 30,
   "metadata": {
    "collapsed": false
   },
   "outputs": [
    {
     "data": {
      "text/plain": [
       "  det_prod      phase                                      uniqueid\n",
       "1      bae production A1M03U3W99BGZ4:36W0OB37HWFBGUT43CZO7WQW334HZ7\n",
       "2       bo production A1VNYP58BTF4HX:3TXWC2NHNZRL0CP7A8HOYMV5XBWS9N\n",
       "3       bo production A1VNYP58BTF4HX:3TXWC2NHNZRL0CP7A8HOYMV5XBWS9N\n",
       "4       bo production A1VNYP58BTF4HX:3TXWC2NHNZRL0CP7A8HOYMV5XBWS9N\n",
       "5     bok. production A1M03U3W99BGZ4:36W0OB37HWFBGUT43CZO7WQW334HZ7\n",
       "6     bok. production A1M03U3W99BGZ4:36W0OB37HWFBGUT43CZO7WQW334HZ7\n",
       "             condition counterbalance n   verb   noun  det test_number  type\n",
       "1 3 Rule | 6 Exception              0 2 gentif flugit null           5 novel\n",
       "2 5 Rule | 4 Exception              0 8 gentif flugit null           3 novel\n",
       "3 5 Rule | 4 Exception              0 7 gentif daffin null           5 novel\n",
       "4 5 Rule | 4 Exception              0 6 gentif   norg null           5 novel\n",
       "5 3 Rule | 6 Exception              0 5 gentif    sep null           5 novel\n",
       "6 3 Rule | 6 Exception              0 6 gentif    sep null           3 novel\n",
       "         user_input noun.prod users_answer_cat\n",
       "1 gentif flugit bae    flugit           non-ka\n",
       "2  gentif flugit bo    flugit            other\n",
       "3  gentif daffin bo    daffin            other\n",
       "4    gentif norg bo      norg            other\n",
       "5   gentif sep bok.       sep            other\n",
       "6   gentif sep bok.       sep            other\n"
      ]
     },
     "metadata": {},
     "output_type": "display_data"
    }
   ],
   "source": [
    "%%R\n",
    "head(dp)"
   ]
  },
  {
   "cell_type": "code",
   "execution_count": 31,
   "metadata": {
    "collapsed": false
   },
   "outputs": [
    {
     "data": {
      "text/plain": [
       "                                        uniqueid         ka    non-ka\n",
       "1  A13VIJ7G997ZCY:3R2UR8A0IAHW3GFC676TUK7M7PKXOE  33.333333 58.333333\n",
       "2  A18LPAFMK1B06K:3NJM2BJS4W7QLIGIUBNL57R2GCSCP8 100.000000  0.000000\n",
       "3  A1M03U3W99BGZ4:36W0OB37HWFBGUT43CZO7WQW334HZ7   8.333333  8.333333\n",
       "4  A1P3Z24Y6GRNVA:3WEV0KO0OMTX322OMOMQKIEVOWBSD4  50.000000  0.000000\n",
       "5  A1VNYP58BTF4HX:3TXWC2NHNZRL0CP7A8HOYMV5XBWS9N  33.333333  0.000000\n",
       "6  A280RC0S51YKFT:3VBEN272MK00FMCFOENYQ3HS1ORSGE   8.333333 66.666667\n",
       "7  A2L772YDACSPHF:34J10VATJFZ2YX3XMYYWGFF7YDZIQ8   0.000000  0.000000\n",
       "8  A2R40R4O6G0YBY:3HYA4D452RK1WNZMJF2AH04C2FT2FN 100.000000  0.000000\n",
       "9  A2VD133723IZR8:36NEMU28XFETEDPAJMVU0X4A3NZMWV  58.333333 41.666667\n",
       "10 A36SM7QM8OK3H6:37M28K1J0QE66SGMFKMA2GF27A2AJ5  50.000000 50.000000\n",
       "11 A37I58C4258IPX:3PZDLQMM0TMUTBFCSDC99UJ95212CC 100.000000  0.000000\n",
       "12 A3BFXVLAJK3SH9:3IO1LGZLK9YGZ980Y387XL42VGI86T  41.666667 58.333333\n",
       "13 A3URNV625JS985:3C5W7UE9CFR83DU0TRRG2GIHCP5XMZ  91.666667  8.333333\n",
       "14  AGMSPB6VYCCFK:3DQQ64TANGMZZGMNB2NMH1Y58SAPWU  66.666667 33.333333\n",
       "15  AMG9Y1YLBTKIV:39LNWE0K4UXUQQAE37I1QGCW1Y4UIO  83.333333  0.000000\n",
       "        other\n",
       "1    8.333333\n",
       "2    0.000000\n",
       "3   83.333333\n",
       "4   50.000000\n",
       "5   66.666667\n",
       "6   25.000000\n",
       "7  100.000000\n",
       "8    0.000000\n",
       "9    0.000000\n",
       "10   0.000000\n",
       "11   0.000000\n",
       "12   0.000000\n",
       "13   0.000000\n",
       "14   0.000000\n",
       "15  16.666667\n"
      ]
     },
     "metadata": {},
     "output_type": "display_data"
    }
   ],
   "source": [
    "%%R\n",
    "thistab <- table(dp$uniqueid, dp$users_answer_cat, dp$noun)\n",
    "with(dp, table(uniqueid, users_answer_cat)) -> gen.adm.table\n",
    "thisdp <- prop.table(gen.adm.table, 1)*100\n",
    "#print(gen.adm.table)\n",
    "mdata <- melt(thisdp, id=\"uniqueid\")\n",
    "#print(mdata)\n",
    "\n",
    "\n",
    "cdata <- cast(mdata, uniqueid~users_answer_cat)\n",
    "print(cdata)\n"
   ]
  },
  {
   "cell_type": "code",
   "execution_count": 45,
   "metadata": {
    "collapsed": false
   },
   "outputs": [
    {
     "data": {
      "text/plain": [
       "  Condition Count UniqueKey Image     Case Noun Inflect Type\n",
       "1         0     1      N1-1     1 singular   N1    null   ka\n",
       "2         0     2      N1-2     1 singular   N1    null   ka\n",
       "3         0     3      N1-3     1 singular   N1    null   ka\n",
       "4         0     4      N1-4     1 singular   N1    null   ka\n",
       "5         0     5      N1-5     1 singular   N1    null   ka\n",
       "6         0     6      N1-6     1 singular   N1    null   ka\n"
      ]
     },
     "metadata": {},
     "output_type": "display_data"
    }
   ],
   "source": [
    "%%R\n",
    "\n",
    "newdf <- read.csv(\"/Users/kathrynschuler/Desktop/0153-for-graphs.csv\")\n",
    "#qplot(newdf$noun, newdf$count, xlab=\"noun (ranked)\", ylab=\"count\") + theme_classic()\n",
    "# hist(x = newdf$noun,\n",
    "#     xlab = \"Noun (Ranked)\", ylab = \"Frequency\",\n",
    "#     main = \"Ranked frequency of nouns in exposure corpus\")\n",
    "levels(newdf$Condition) <- c(\"5 Rule | 4 Exception\", \"3 Rule | 6 Exception\")\n",
    "head(newdf)\n"
   ]
  },
  {
   "cell_type": "code",
   "execution_count": 58,
   "metadata": {
    "collapsed": false
   },
   "outputs": [
    {
     "data": {
      "image/png": "[encoded data removed]"
     },
     "metadata": {},
     "output_type": "display_data"
    }
   ],
   "source": [
    "%%R\n",
    "g <- ggplot(newdf, aes(x=Noun))\n",
    "g + geom_histogram() + theme_classic() + labs(x=\"\") + \n",
    "    facet_grid(~Condition)+theme(axis.line=element_blank(),\n",
    "      axis.text.x=element_blank(),\n",
    "      axis.text.y=element_blank(),\n",
    "      axis.ticks=element_blank(),\n",
    "      axis.title.x=element_blank(),\n",
    "      axis.title.y=element_blank(),\n",
    "      legend.position=\"none\")"
   ]
  },
  {
   "cell_type": "code",
   "execution_count": 61,
   "metadata": {
    "collapsed": false
   },
   "outputs": [],
   "source": [
    "%%R\n",
    "ggsave(\"0156-rating.png\", width = 12, height = 4 )"
   ]
  },
  {
   "cell_type": "code",
   "execution_count": 33,
   "metadata": {
    "collapsed": false
   },
   "outputs": [
    {
     "name": "stdout",
     "output_type": "stream",
     "text": [
      "Error in head(newdf) : object 'newdf' not found\n"
     ]
    }
   ],
   "source": [
    "%%R\n",
    "\n",
    "head(newdf)"
   ]
  },
  {
   "cell_type": "code",
   "execution_count": 62,
   "metadata": {
    "collapsed": false
   },
   "outputs": [
    {
     "data": {
      "image/png": "[encoded data removed]"
     },
     "metadata": {},
     "output_type": "display_data"
    }
   ],
   "source": [
    "%%R\n",
    "\n",
    "nnewdf <- subset(newdf, Inflect != 'null')\n",
    "nnewdf$Inflect <- factor(nnewdf$Inflect, levels = c(\"R\", \"E1\", \"E2\", \"E3\", \"E4\", \"E5\", \"E6\"))\n",
    "head(newdf)\n",
    "\n",
    "g <- ggplot(nnewdf, aes(x=Inflect))\n",
    "g + geom_histogram() + theme_classic() + labs(x=\"\")+facet_grid(~ Condition)\n"
   ]
  },
  {
   "cell_type": "code",
   "execution_count": 35,
   "metadata": {
    "collapsed": false
   },
   "outputs": [
    {
     "data": {
      "text/plain": [
       "             condition users_answer_cat N    value       sd       se       ci\n",
       "1 5 Rule | 4 Exception               ka 8 56.25000 40.02727 14.15178 33.46364\n",
       "2 5 Rule | 4 Exception           non-ka 8 13.54167 24.37207  8.61683 20.37556\n",
       "3 5 Rule | 4 Exception            other 8 30.20833 38.30162 13.54167 32.02095\n",
       "4 3 Rule | 6 Exception               ka 7 53.57143 30.75333 11.62367 28.44208\n",
       "5 3 Rule | 6 Exception           non-ka 7 30.95238 27.09478 10.24086 25.05849\n",
       "6 3 Rule | 6 Exception            other 7 15.47619 30.59161 11.56254 28.29252\n"
      ]
     },
     "metadata": {},
     "output_type": "display_data"
    }
   ],
   "source": [
    "%%R\n",
    "condition_map <- ddply(dp, .(condition, uniqueid), summarize, NumSubs = length(unique(uniqueid)))\n",
    "newdp <- merge(mdata, condition_map, on=\"uniqueid\")\n",
    "sum_data_prod = summarySE(newdp, measurevar=\"value\", groupvars=c(\"condition\",\"users_answer_cat\"), na.rm=TRUE)\n",
    "print(sum_data_prod)"
   ]
  },
  {
   "cell_type": "code",
   "execution_count": 36,
   "metadata": {
    "collapsed": false
   },
   "outputs": [
    {
     "data": {
      "image/png": "[encoded data removed]"
     },
     "metadata": {},
     "output_type": "display_data"
    }
   ],
   "source": [
    "%%R\n",
    "sum_data_prod$condition <- factor(sum_data_prod$condition)\n",
    "dummy <- data.frame(condition = c(\"5 Rule | 4 Exception\", \"3 Rule | 6 Exception\"), Z = c(32.65, 24.49))\n",
    "\n",
    "# Error bars represent standard error of the mean\n",
    "g = ggplot(sum_data_prod, aes(x=users_answer_cat, y=value, fill=users_answer_cat), colour=\"black\") + \n",
    "    geom_bar(position=position_dodge(), stat=\"identity\", colour=\"black\") +theme_classic()+ coord_cartesian(ylim=c(1.0,100.0)) + \n",
    "    facet_grid(~ condition) +geom_hline(data = dummy, aes(yintercept = Z), linetype=\"dashed\")+ scale_fill_manual(values=c(\"#111111\", \"#999999\", \"000000\"))+\n",
    "    ylab(\"Usage of Inflection\")+xlab(\"\")\n",
    "\n",
    "g = g + theme(axis.ticks=element_blank(), legend.title=element_blank(), legend.background = element_rect(colour=\"#111111\",size=0.25), legend.position=c(0.925,0.90))\n",
    "\n",
    "g +geom_errorbar(aes(ymin=value-se, ymax=value+se), width=.2, position=position_dodge(.9))"
   ]
  },
  {
   "cell_type": "code",
   "execution_count": 37,
   "metadata": {
    "collapsed": false
   },
   "outputs": [
    {
     "data": {
      "text/plain": [
       "Saving 6.67 x 6.67 in image\n"
      ]
     },
     "metadata": {},
     "output_type": "display_data"
    }
   ],
   "source": [
    "%%R\n",
    "ggsave(\"0153-production.png\")"
   ]
  },
  {
   "cell_type": "code",
   "execution_count": 38,
   "metadata": {
    "collapsed": false
   },
   "outputs": [
    {
     "data": {
      "text/plain": [
       "                                        uniqueid        ka    non-ka other\n",
       "1  A13VIJ7G997ZCY:3R2UR8A0IAHW3GFC676TUK7M7PKXOE  36.36364 63.636364     0\n",
       "2  A18LPAFMK1B06K:3NJM2BJS4W7QLIGIUBNL57R2GCSCP8 100.00000  0.000000     0\n",
       "3  A1M03U3W99BGZ4:36W0OB37HWFBGUT43CZO7WQW334HZ7  50.00000 50.000000     0\n",
       "4  A1P3Z24Y6GRNVA:3WEV0KO0OMTX322OMOMQKIEVOWBSD4 100.00000  0.000000     0\n",
       "5  A1VNYP58BTF4HX:3TXWC2NHNZRL0CP7A8HOYMV5XBWS9N 100.00000  0.000000     0\n",
       "6  A280RC0S51YKFT:3VBEN272MK00FMCFOENYQ3HS1ORSGE  11.11111 88.888889     0\n",
       "7  A2L772YDACSPHF:34J10VATJFZ2YX3XMYYWGFF7YDZIQ8        NA        NA    NA\n",
       "8  A2R40R4O6G0YBY:3HYA4D452RK1WNZMJF2AH04C2FT2FN 100.00000  0.000000     0\n",
       "9  A2VD133723IZR8:36NEMU28XFETEDPAJMVU0X4A3NZMWV  58.33333 41.666667     0\n",
       "10 A36SM7QM8OK3H6:37M28K1J0QE66SGMFKMA2GF27A2AJ5  50.00000 50.000000     0\n",
       "11 A37I58C4258IPX:3PZDLQMM0TMUTBFCSDC99UJ95212CC 100.00000  0.000000     0\n",
       "12 A3BFXVLAJK3SH9:3IO1LGZLK9YGZ980Y387XL42VGI86T  41.66667 58.333333     0\n",
       "13 A3URNV625JS985:3C5W7UE9CFR83DU0TRRG2GIHCP5XMZ  91.66667  8.333333     0\n",
       "14  AGMSPB6VYCCFK:3DQQ64TANGMZZGMNB2NMH1Y58SAPWU  66.66667 33.333333     0\n",
       "15  AMG9Y1YLBTKIV:39LNWE0K4UXUQQAE37I1QGCW1Y4UIO 100.00000  0.000000     0\n"
      ]
     },
     "metadata": {},
     "output_type": "display_data"
    }
   ],
   "source": [
    "%%R\n",
    "subo <- subset(dp, users_answer_cat != 'other')\n",
    "thistab <- table(subo$uniqueid, subo$users_answer_cat, subo$noun)\n",
    "with(subo, table(uniqueid, users_answer_cat)) -> gen.adm.table\n",
    "thisdp <- prop.table(gen.adm.table, 1)*100\n",
    "#print(gen.adm.table)\n",
    "mdata <- melt(thisdp, id=\"uniqueid\")\n",
    "#print(mdata)\n",
    "\n",
    "\n",
    "cdata <- cast(mdata, uniqueid~users_answer_cat)\n",
    "print(cdata)"
   ]
  },
  {
   "cell_type": "code",
   "execution_count": 39,
   "metadata": {
    "collapsed": false
   },
   "outputs": [
    {
     "data": {
      "image/png": "[encoded data removed]"
     },
     "metadata": {},
     "output_type": "display_data"
    }
   ],
   "source": [
    "%%R\n",
    "newdp2<- subset(newdp, users_answer_cat == 'ka')\n",
    "sum_data_prod2 = summarySE(newdp2, measurevar=\"value\", groupvars=c(\"condition\",\"uniqueid\",\"users_answer_cat\"), na.rm=TRUE)\n",
    "#dummy <- data.frame(condition = c(\"5 Rule | 4 Exception\", \"3 Rule | 6 Exception\"), Z = c(75.0, 58.3))\n",
    "\n",
    "# Error bars represent standard error of the mean\n",
    "p = ggplot(sum_data_prod2, aes(x=condition, y=value)) + geom_point(shape = 1, position = position_jitter(width = .05), size=4, aes(color = condition)) \n",
    "\n",
    "# +theme_classic()+ coord_cartesian(ylim=c(1.0,100.0)) + \n",
    "#     facet_grid(~ condition) + \n",
    "#     ylab(\"Usage of Inflection\")+xlab(\"\")\n",
    "p +theme_classic()+ theme(axis.ticks=element_blank(), axis.text.x = element_blank())+xlab(\"\")+ylab(\"Usage of Ka Inflection\")\n",
    "\n"
   ]
  },
  {
   "cell_type": "code",
   "execution_count": 40,
   "metadata": {
    "collapsed": false
   },
   "outputs": [],
   "source": [
    "%%R\n",
    "condition_map <- ddply(dp, .(condition, uniqueid), summarize, NumSubs = length(unique(uniqueid)))\n",
    "newdp <- merge(cdata, condition_map, on=\"uniqueid\")\n",
    "newdp <- rename(newdp, c(\"non-ka\"=\"non.ka\"))"
   ]
  },
  {
   "cell_type": "code",
   "execution_count": 41,
   "metadata": {
    "collapsed": false
   },
   "outputs": [
    {
     "data": {
      "image/png": "[encoded data removed]"
     },
     "metadata": {},
     "output_type": "display_data"
    }
   ],
   "source": [
    "%%R\n",
    "g = ggplot(newdp, aes(x=ka, y=non.ka)) + geom_point(shape = 1, position = position_jitter(width = 4, height=4), size=4, aes(color = condition)) + theme_classic()+ylab(\"P(minority)\")+xlab(\"P(dominant)\")\n",
    "g = g + geom_hline(aes(yintercept=25.0), linetype=\"dashed\") + geom_vline(aes(xintercept=75.0), linetype=\"dashed\")+ geom_point(aes(y=25, x=75), color=\"black\", size=4) \n",
    "g + theme(panel.border = element_rect(fill=NA, linetype=\"solid\", size=1))"
   ]
  },
  {
   "cell_type": "code",
   "execution_count": 42,
   "metadata": {
    "collapsed": false
   },
   "outputs": [
    {
     "data": {
      "text/plain": [
       "                                        uniqueid      type detcat N user_input\n",
       "1  A13VIJ7G997ZCY:3R2UR8A0IAHW3GFC676TUK7M7PKXOE   correct     ka 4   3.000000\n",
       "2  A13VIJ7G997ZCY:3R2UR8A0IAHW3GFC676TUK7M7PKXOE   correct non-ka 4   3.500000\n",
       "3  A13VIJ7G997ZCY:3R2UR8A0IAHW3GFC676TUK7M7PKXOE incorrect     ka 2   3.500000\n",
       "4  A13VIJ7G997ZCY:3R2UR8A0IAHW3GFC676TUK7M7PKXOE incorrect non-ka 6   4.000000\n",
       "5  A18LPAFMK1B06K:3NJM2BJS4W7QLIGIUBNL57R2GCSCP8   correct     ka 4   2.000000\n",
       "6  A18LPAFMK1B06K:3NJM2BJS4W7QLIGIUBNL57R2GCSCP8   correct non-ka 4   1.000000\n",
       "7  A18LPAFMK1B06K:3NJM2BJS4W7QLIGIUBNL57R2GCSCP8 incorrect     ka 2   5.000000\n",
       "8  A18LPAFMK1B06K:3NJM2BJS4W7QLIGIUBNL57R2GCSCP8 incorrect non-ka 6   3.000000\n",
       "9  A1M03U3W99BGZ4:36W0OB37HWFBGUT43CZO7WQW334HZ7   correct     ka 4   5.000000\n",
       "10 A1M03U3W99BGZ4:36W0OB37HWFBGUT43CZO7WQW334HZ7   correct non-ka 3   4.333333\n",
       "11 A1M03U3W99BGZ4:36W0OB37HWFBGUT43CZO7WQW334HZ7 incorrect     ka 2   5.000000\n",
       "12 A1M03U3W99BGZ4:36W0OB37HWFBGUT43CZO7WQW334HZ7 incorrect non-ka 6   4.333333\n",
       "13 A1P3Z24Y6GRNVA:3WEV0KO0OMTX322OMOMQKIEVOWBSD4   correct     ka 3   2.333333\n",
       "14 A1P3Z24Y6GRNVA:3WEV0KO0OMTX322OMOMQKIEVOWBSD4   correct non-ka 4   2.250000\n",
       "15 A1P3Z24Y6GRNVA:3WEV0KO0OMTX322OMOMQKIEVOWBSD4 incorrect     ka 2   2.500000\n",
       "16 A1P3Z24Y6GRNVA:3WEV0KO0OMTX322OMOMQKIEVOWBSD4 incorrect non-ka 6   2.500000\n",
       "17 A1VNYP58BTF4HX:3TXWC2NHNZRL0CP7A8HOYMV5XBWS9N   correct     ka 4   3.750000\n",
       "18 A1VNYP58BTF4HX:3TXWC2NHNZRL0CP7A8HOYMV5XBWS9N   correct non-ka 4   3.500000\n",
       "19 A1VNYP58BTF4HX:3TXWC2NHNZRL0CP7A8HOYMV5XBWS9N incorrect     ka 2   3.500000\n",
       "20 A1VNYP58BTF4HX:3TXWC2NHNZRL0CP7A8HOYMV5XBWS9N incorrect non-ka 5   3.000000\n",
       "21 A280RC0S51YKFT:3VBEN272MK00FMCFOENYQ3HS1ORSGE   correct     ka 4   2.250000\n",
       "22 A280RC0S51YKFT:3VBEN272MK00FMCFOENYQ3HS1ORSGE   correct non-ka 4   3.250000\n",
       "23 A280RC0S51YKFT:3VBEN272MK00FMCFOENYQ3HS1ORSGE incorrect     ka 2   4.000000\n",
       "24 A280RC0S51YKFT:3VBEN272MK00FMCFOENYQ3HS1ORSGE incorrect non-ka 6   3.000000\n",
       "25 A2L772YDACSPHF:34J10VATJFZ2YX3XMYYWGFF7YDZIQ8   correct     ka 4   3.750000\n",
       "26 A2L772YDACSPHF:34J10VATJFZ2YX3XMYYWGFF7YDZIQ8   correct non-ka 3   2.666667\n",
       "27 A2L772YDACSPHF:34J10VATJFZ2YX3XMYYWGFF7YDZIQ8 incorrect     ka 2   4.000000\n",
       "28 A2L772YDACSPHF:34J10VATJFZ2YX3XMYYWGFF7YDZIQ8 incorrect non-ka 6   3.166667\n",
       "29 A2R40R4O6G0YBY:3HYA4D452RK1WNZMJF2AH04C2FT2FN   correct     ka 4   4.000000\n",
       "30 A2R40R4O6G0YBY:3HYA4D452RK1WNZMJF2AH04C2FT2FN   correct non-ka 4   3.000000\n",
       "31 A2R40R4O6G0YBY:3HYA4D452RK1WNZMJF2AH04C2FT2FN incorrect     ka 2   5.000000\n",
       "32 A2R40R4O6G0YBY:3HYA4D452RK1WNZMJF2AH04C2FT2FN incorrect non-ka 6   4.000000\n",
       "33 A2VD133723IZR8:36NEMU28XFETEDPAJMVU0X4A3NZMWV   correct     ka 4   4.500000\n",
       "34 A2VD133723IZR8:36NEMU28XFETEDPAJMVU0X4A3NZMWV   correct non-ka 4   4.500000\n",
       "35 A2VD133723IZR8:36NEMU28XFETEDPAJMVU0X4A3NZMWV incorrect     ka 2   5.000000\n",
       "36 A2VD133723IZR8:36NEMU28XFETEDPAJMVU0X4A3NZMWV incorrect non-ka 6   4.333333\n",
       "37 A36SM7QM8OK3H6:37M28K1J0QE66SGMFKMA2GF27A2AJ5   correct     ka 4   3.500000\n",
       "38 A36SM7QM8OK3H6:37M28K1J0QE66SGMFKMA2GF27A2AJ5   correct non-ka 4   3.000000\n",
       "39 A36SM7QM8OK3H6:37M28K1J0QE66SGMFKMA2GF27A2AJ5 incorrect     ka 2   5.000000\n",
       "40 A36SM7QM8OK3H6:37M28K1J0QE66SGMFKMA2GF27A2AJ5 incorrect non-ka 6   3.666667\n",
       "41 A37I58C4258IPX:3PZDLQMM0TMUTBFCSDC99UJ95212CC   correct     ka 4   3.500000\n",
       "42 A37I58C4258IPX:3PZDLQMM0TMUTBFCSDC99UJ95212CC   correct non-ka 4   1.000000\n",
       "43 A37I58C4258IPX:3PZDLQMM0TMUTBFCSDC99UJ95212CC incorrect     ka 2   5.000000\n",
       "44 A37I58C4258IPX:3PZDLQMM0TMUTBFCSDC99UJ95212CC incorrect non-ka 6   2.333333\n",
       "45 A3BFXVLAJK3SH9:3IO1LGZLK9YGZ980Y387XL42VGI86T   correct     ka 4   4.000000\n",
       "46 A3BFXVLAJK3SH9:3IO1LGZLK9YGZ980Y387XL42VGI86T   correct non-ka 4   3.500000\n",
       "47 A3BFXVLAJK3SH9:3IO1LGZLK9YGZ980Y387XL42VGI86T incorrect     ka 2   3.500000\n",
       "48 A3BFXVLAJK3SH9:3IO1LGZLK9YGZ980Y387XL42VGI86T incorrect non-ka 6   3.833333\n",
       "49 A3URNV625JS985:3C5W7UE9CFR83DU0TRRG2GIHCP5XMZ   correct     ka 4   4.750000\n",
       "50 A3URNV625JS985:3C5W7UE9CFR83DU0TRRG2GIHCP5XMZ   correct non-ka 4   2.500000\n",
       "51 A3URNV625JS985:3C5W7UE9CFR83DU0TRRG2GIHCP5XMZ incorrect     ka 2   4.000000\n",
       "52 A3URNV625JS985:3C5W7UE9CFR83DU0TRRG2GIHCP5XMZ incorrect non-ka 6   2.500000\n",
       "53  AGMSPB6VYCCFK:3DQQ64TANGMZZGMNB2NMH1Y58SAPWU   correct     ka 4   2.500000\n",
       "54  AGMSPB6VYCCFK:3DQQ64TANGMZZGMNB2NMH1Y58SAPWU   correct non-ka 4   2.000000\n",
       "55  AGMSPB6VYCCFK:3DQQ64TANGMZZGMNB2NMH1Y58SAPWU incorrect     ka 2   5.000000\n",
       "56  AGMSPB6VYCCFK:3DQQ64TANGMZZGMNB2NMH1Y58SAPWU incorrect non-ka 6   3.166667\n",
       "57  AMG9Y1YLBTKIV:39LNWE0K4UXUQQAE37I1QGCW1Y4UIO   correct     ka 4   5.000000\n",
       "58  AMG9Y1YLBTKIV:39LNWE0K4UXUQQAE37I1QGCW1Y4UIO   correct non-ka 4   3.500000\n",
       "59  AMG9Y1YLBTKIV:39LNWE0K4UXUQQAE37I1QGCW1Y4UIO incorrect     ka 2   5.000000\n",
       "60  AMG9Y1YLBTKIV:39LNWE0K4UXUQQAE37I1QGCW1Y4UIO incorrect non-ka 6   3.500000\n",
       "          sd        se         ci\n",
       "1  0.0000000 0.0000000  0.0000000\n",
       "2  1.7320508 0.8660254  2.7560793\n",
       "3  2.1213203 1.5000000 19.0593071\n",
       "4  0.8944272 0.3651484  0.9386438\n",
       "5  2.0000000 1.0000000  3.1824463\n",
       "6  0.0000000 0.0000000  0.0000000\n",
       "7  0.0000000 0.0000000  0.0000000\n",
       "8  2.1908902 0.8944272  2.2991983\n",
       "9  0.0000000 0.0000000  0.0000000\n",
       "10 1.1547005 0.6666667  2.8684352\n",
       "11 0.0000000 0.0000000  0.0000000\n",
       "12 0.5163978 0.2108185  0.5419262\n",
       "13 0.5773503 0.3333333  1.4342176\n",
       "14 1.5000000 0.7500000  2.3868347\n",
       "15 2.1213203 1.5000000 19.0593071\n",
       "16 1.3784049 0.5627314  1.4465472\n",
       "17 1.2583057 0.6291529  2.0022452\n",
       "18 1.2909944 0.6454972  2.0542603\n",
       "19 0.7071068 0.5000000  6.3531024\n",
       "20 0.7071068 0.3162278  0.8779890\n",
       "21 0.5000000 0.2500000  0.7956116\n",
       "22 0.9574271 0.4787136  1.5234802\n",
       "23 0.0000000 0.0000000  0.0000000\n",
       "24 1.6733201 0.6831301  1.7560417\n",
       "25 0.5000000 0.2500000  0.7956116\n",
       "26 0.5773503 0.3333333  1.4342176\n",
       "27 0.0000000 0.0000000  0.0000000\n",
       "28 0.9831921 0.4013865  1.0317968\n",
       "29 0.0000000 0.0000000  0.0000000\n",
       "30 0.0000000 0.0000000  0.0000000\n",
       "31 0.0000000 0.0000000  0.0000000\n",
       "32 1.0954451 0.4472136  1.1495991\n",
       "33 1.0000000 0.5000000  1.5912232\n",
       "34 1.0000000 0.5000000  1.5912232\n",
       "35 0.0000000 0.0000000  0.0000000\n",
       "36 1.2110601 0.4944132  1.2709297\n",
       "37 1.0000000 0.5000000  1.5912232\n",
       "38 0.0000000 0.0000000  0.0000000\n",
       "39 0.0000000 0.0000000  0.0000000\n",
       "40 1.0327956 0.4216370  1.0838525\n",
       "41 1.7320508 0.8660254  2.7560793\n",
       "42 0.0000000 0.0000000  0.0000000\n",
       "43 0.0000000 0.0000000  0.0000000\n",
       "44 2.0655911 0.8432740  2.1677049\n",
       "45 0.8164966 0.4082483  1.2992283\n",
       "46 1.0000000 0.5000000  1.5912232\n",
       "47 2.1213203 1.5000000 19.0593071\n",
       "48 0.7527727 0.3073181  0.7899865\n",
       "49 0.5000000 0.2500000  0.7956116\n",
       "50 0.5773503 0.2886751  0.9186931\n",
       "51 1.4142136 1.0000000 12.7062047\n",
       "52 1.2247449 0.5000000  1.2852909\n",
       "53 0.5773503 0.2886751  0.9186931\n",
       "54 0.8164966 0.4082483  1.2992283\n",
       "55 0.0000000 0.0000000  0.0000000\n",
       "56 1.4719601 0.6009252  1.5447274\n",
       "57 0.0000000 0.0000000  0.0000000\n",
       "58 0.5773503 0.2886751  0.9186931\n",
       "59 0.0000000 0.0000000  0.0000000\n",
       "60 1.0488088 0.4281744  1.1006574\n"
      ]
     },
     "metadata": {},
     "output_type": "display_data"
    }
   ],
   "source": [
    "%%R\n",
    "sum_data_rating2 = summarySE(dr, measurevar=\"user_input\", groupvars=c(\"uniqueid\",\"type\", \"detcat\"), na.rm=TRUE)\n",
    "print(sum_data_rating2)"
   ]
  },
  {
   "cell_type": "code",
   "execution_count": 43,
   "metadata": {
    "collapsed": false
   },
   "outputs": [
    {
     "data": {
      "text/plain": [
       "                                        uniqueid users_answer_cat      value\n",
       "1  A13VIJ7G997ZCY:3R2UR8A0IAHW3GFC676TUK7M7PKXOE               ka  33.333333\n",
       "4  A18LPAFMK1B06K:3NJM2BJS4W7QLIGIUBNL57R2GCSCP8               ka 100.000000\n",
       "8  A1M03U3W99BGZ4:36W0OB37HWFBGUT43CZO7WQW334HZ7               ka   8.333333\n",
       "10 A1P3Z24Y6GRNVA:3WEV0KO0OMTX322OMOMQKIEVOWBSD4               ka  50.000000\n",
       "14 A1VNYP58BTF4HX:3TXWC2NHNZRL0CP7A8HOYMV5XBWS9N               ka  33.333333\n",
       "18 A280RC0S51YKFT:3VBEN272MK00FMCFOENYQ3HS1ORSGE               ka   8.333333\n",
       "21 A2L772YDACSPHF:34J10VATJFZ2YX3XMYYWGFF7YDZIQ8               ka   0.000000\n",
       "22 A2R40R4O6G0YBY:3HYA4D452RK1WNZMJF2AH04C2FT2FN               ka 100.000000\n",
       "26 A2VD133723IZR8:36NEMU28XFETEDPAJMVU0X4A3NZMWV               ka  58.333333\n",
       "30 A36SM7QM8OK3H6:37M28K1J0QE66SGMFKMA2GF27A2AJ5               ka  50.000000\n",
       "33 A37I58C4258IPX:3PZDLQMM0TMUTBFCSDC99UJ95212CC               ka 100.000000\n",
       "34 A3BFXVLAJK3SH9:3IO1LGZLK9YGZ980Y387XL42VGI86T               ka  41.666667\n",
       "39 A3URNV625JS985:3C5W7UE9CFR83DU0TRRG2GIHCP5XMZ               ka  91.666667\n",
       "40  AGMSPB6VYCCFK:3DQQ64TANGMZZGMNB2NMH1Y58SAPWU               ka  66.666667\n",
       "43  AMG9Y1YLBTKIV:39LNWE0K4UXUQQAE37I1QGCW1Y4UIO               ka  83.333333\n",
       "              condition NumSubs\n",
       "1  3 Rule | 6 Exception       1\n",
       "4  5 Rule | 4 Exception       1\n",
       "8  3 Rule | 6 Exception       1\n",
       "10 5 Rule | 4 Exception       1\n",
       "14 5 Rule | 4 Exception       1\n",
       "18 5 Rule | 4 Exception       1\n",
       "21 5 Rule | 4 Exception       1\n",
       "22 5 Rule | 4 Exception       1\n",
       "26 3 Rule | 6 Exception       1\n",
       "30 3 Rule | 6 Exception       1\n",
       "33 3 Rule | 6 Exception       1\n",
       "34 3 Rule | 6 Exception       1\n",
       "39 5 Rule | 4 Exception       1\n",
       "40 5 Rule | 4 Exception       1\n",
       "43 3 Rule | 6 Exception       1\n"
      ]
     },
     "metadata": {},
     "output_type": "display_data"
    }
   ],
   "source": [
    "%%R\n",
    "print(newdp2)"
   ]
  },
  {
   "cell_type": "code",
   "execution_count": null,
   "metadata": {
    "collapsed": true
   },
   "outputs": [],
   "source": []
  },
  {
   "cell_type": "code",
   "execution_count": null,
   "metadata": {
    "collapsed": true
   },
   "outputs": [],
   "source": []
  }
 ],
 "metadata": {
  "kernelspec": {
   "display_name": "Python 2",
   "language": "python",
   "name": "python2"
  },
  "language_info": {
   "codemirror_mode": {
    "name": "ipython",
    "version": 2
   },
   "file_extension": ".py",
   "mimetype": "text/x-python",
   "name": "python",
   "nbconvert_exporter": "python",
   "pygments_lexer": "ipython2",
   "version": "2.7.11"
  }
 },
 "nbformat": 4,
 "nbformat_minor": 0
}
