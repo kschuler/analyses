{
  "nbformat": 4,
  "nbformat_minor": 0,
  "metadata": {
    "colab": {
      "name": "inconinput-austinnewport-analysis.ipynb",
      "version": "0.3.2",
      "provenance": [],
      "collapsed_sections": [],
      "include_colab_link": true
    },
    "kernelspec": {
      "display_name": "R",
      "language": "R",
      "name": "ir"
    }
  },
  "cells": [
    {
      "cell_type": "markdown",
      "metadata": {
        "id": "view-in-github",
        "colab_type": "text"
      },
      "source": [
        "<a href=\"https://colab.research.google.com/github/kschuler/analyses/blob/master/inconinput_austinnewport_analysis.ipynb\" target=\"_parent\"><img src=\"https://colab.research.google.com/assets/colab-badge.svg\" alt=\"Open In Colab\"/></a>"
      ]
    },
    {
      "cell_type": "markdown",
      "metadata": {
        "id": "csfbwsvjnb7Y",
        "colab_type": "text"
      },
      "source": [
        "\n",
        "# InconInput Austin & Newport Analysis\n",
        "\n",
        "*by Katie Schuler*\n",
        "\n",
        "This is my analysis for the InconInput Austin & Newport paper. I conducted it on 7/18/2019, after Lissa finished a final draft of the paper and asked me to include a few additional statistics that were missing from the paper. Note that all links are in Google Drive and accessible only to Katie and Lissa.\n",
        "\n",
        "\n",
        "*Note that I was initially worried because we only have Alison's raw data, and I'd have to re-do her preprocessing steps (especially for the Production Test portion). But Lissa pointed out that we could probably do what she wanted with just the means and sems reported in the text, plus an analysis of the rating data. So, I set out to do that.*\n",
        "\n",
        "\n",
        "\n",
        "\n",
        "\n",
        "\n"
      ]
    },
    {
      "cell_type": "markdown",
      "metadata": {
        "id": "Nk1OpjzvsivG",
        "colab_type": "text"
      },
      "source": [
        "## Setting up\n"
      ]
    },
    {
      "cell_type": "markdown",
      "metadata": {
        "id": "CP_bQ-3LPx6C",
        "colab_type": "text"
      },
      "source": [
        "### Load libraries\n",
        "\n",
        "As always, we first load the libraries we will need to concuct the analysis"
      ]
    },
    {
      "cell_type": "code",
      "metadata": {
        "id": "09OVKbPphfyP",
        "colab_type": "code",
        "colab": {}
      },
      "source": [
        "# install required packages\n",
        "install.packages('BSDA')"
      ],
      "execution_count": 0,
      "outputs": []
    },
    {
      "cell_type": "code",
      "metadata": {
        "id": "MikuA-pgSMwE",
        "colab_type": "code",
        "colab": {}
      },
      "source": [
        "# load required libraries\n",
        "library(readr)\n",
        "library(tidyr)\n",
        "library(dplyr)\n",
        "library(knitr)\n",
        "library(ggplot2)\n",
        "library(broom)\n",
        "library(purrr)\n",
        "library(BSDA)\n",
        "\n"
      ],
      "execution_count": 0,
      "outputs": []
    },
    {
      "cell_type": "markdown",
      "metadata": {
        "id": "UwiUC70Pt7Ws",
        "colab_type": "text"
      },
      "source": [
        "### Load production data\n",
        "I started by creating a sheet (in my summary of Alison's data) called \"[DataSummaryKatie](https://docs.google.com/spreadsheets/d/1cqPU4l4fGeNN4TbZ0Q_FD6m0Gfm4SPEKa55YrLHTbBA/edit#gid=1457778822)\". In this sheet, I included all of the data that was reported for each experiment in Lissa's draft of the paper. I obtained all values **from the text of the paper** ([this version](https://drive.google.com/file/d/1_aGfZArmCAb81rhBRXxTk-YO28pycJw5/view?usp=sharing)).\n"
      ]
    },
    {
      "cell_type": "code",
      "metadata": {
        "id": "llDdFuL7lIPB",
        "colab_type": "code",
        "colab": {}
      },
      "source": [
        "# read in means and sems from paper and add columns we need for ttest (sd computed from se)\n",
        "data_paper <- read_csv('inconinput-austinnewport-data - DataSummaryKatie.csv') %>%\n",
        "  mutate(n = n_subjs_a, mean = mean_dom, sd = se_dom * sqrt(n_subjs_a), se = se_dom, df = n_subjs_a - 1) %>%\n",
        "  select(experiment_paper, age_group, condition, n, df, mean, sd, se)"
      ],
      "execution_count": 0,
      "outputs": []
    },
    {
      "cell_type": "code",
      "metadata": {
        "id": "aG40TkDxkYj9",
        "colab_type": "code",
        "outputId": "eb45cbc0-c250-463e-dd17-e3c342cbb950",
        "colab": {
          "base_uri": "https://localhost:8080/",
          "height": 289
        }
      },
      "source": [
        "# let's see data for usage of dominant form in each experiment\n",
        "data_paper %>% kable"
      ],
      "execution_count": 6,
      "outputs": [
        {
          "output_type": "display_data",
          "data": {
            "text/plain": [
              "\n",
              "\n",
              "|experiment_paper |age_group   |condition    |  n| df|  mean|        sd|   se|\n",
              "|:----------------|:-----------|:------------|--:|--:|-----:|---------:|----:|\n",
              "|Experiment 1     |adult       |consistent   |  8|  7| 100.0|  0.000000| 0.00|\n",
              "|Experiment 1     |adult       |inconsistent |  9|  8|  67.4| 11.400000| 3.80|\n",
              "|Experiment 1     |young child |consistent   |  5|  4| 100.0|  0.000000| 0.00|\n",
              "|Experiment 1     |young child |inconsistent | 10|  9|  90.1| 18.024983| 5.70|\n",
              "|Experiment 2     |adult       |consistent   |  7|  6|  69.8|  3.439477| 1.30|\n",
              "|Experiment 2     |young child |consistent   |  8|  7|  64.5| 17.932228| 6.34|\n",
              "|Experiment 3     |adult       |inconsistent | 12| 11|  61.8| 11.362253| 3.28|\n",
              "|Experiment 3     |older child |inconsistent |  7|  6|  68.2| 24.526115| 9.27|\n",
              "|Experiment 3     |young child |inconsistent |  7|  6|  82.7| 23.679474| 8.95|\n",
              "|Experiment 4     |adult       |inconsistent |  8|  7|  44.6|  9.842926| 3.48|\n",
              "|Experiment 4     |older child |inconsistent | 10|  9|  49.6|  8.190299| 2.59|\n",
              "|Experiment 4     |young child |inconsistent |  9|  8|  77.4| 21.870000| 7.29|"
            ]
          },
          "metadata": {
            "tags": []
          }
        }
      ]
    },
    {
      "cell_type": "markdown",
      "metadata": {
        "id": "gw0AC1ZzaPsS",
        "colab_type": "text"
      },
      "source": [
        "I double-checked, and these all match the values reported in the paper."
      ]
    },
    {
      "cell_type": "markdown",
      "metadata": {
        "id": "Ms-DRlQk0lUd",
        "colab_type": "text"
      },
      "source": [
        "\n",
        "### Load rating data\n",
        "Rating data exists for Experiment 3 (60-40) and Experiment 4 (40-20-4). We only have access to Alison's trial-by-trial rating data, so my next step was to get means and se (for both raw and z-scored) ratings for each experiment in the paper. To do this, I imported Alison's [SubjectTracking](https://docs.google.com/spreadsheets/d/1cqPU4l4fGeNN4TbZ0Q_FD6m0Gfm4SPEKa55YrLHTbBA/edit#gid=1419531819) sheet and her raw [RatingTest](https://docs.google.com/spreadsheets/d/1cqPU4l4fGeNN4TbZ0Q_FD6m0Gfm4SPEKa55YrLHTbBA/edit#gid=1072014936) data. I need the subject tracking sheet because it contains information about the age of the child (what age group they are in) and also about whether or not their data was included in analysis. The rating data only includes subject ID numbers."
      ]
    },
    {
      "cell_type": "code",
      "metadata": {
        "id": "H71L3bM-Sfof",
        "colab_type": "code",
        "colab": {}
      },
      "source": [
        "# read in subject tracking data and rating data\n",
        "subj_tracking <- read_csv('inconinput-austinnewport-data - SubjectTracking.csv') %>%\n",
        "  select(Subject, experiment, marked_include, age, notes_tracking)\n",
        "rating_data <- read_csv('inconinput-austinnewport-data - RatingTest (1).csv')\n",
        "\n",
        "# merge by subject and add age_group variable\n",
        "data <- left_join(rating_data, subj_tracking, by = c(\"Subject\")) %>%\n",
        "  mutate(age_group = ifelse(age < 7 , 'young child', ifelse(age < 10, 'older child', 'adult')))"
      ],
      "execution_count": 0,
      "outputs": []
    },
    {
      "cell_type": "markdown",
      "metadata": {
        "id": "7MW04rUr0gIr",
        "colab_type": "text"
      },
      "source": [
        "Next I wanted to check that everyone in Experiment 3 (60-40) and Experiment 4 (40-20-4) should be inluded in rating analysis. \n",
        "\n",
        "1.   The first way I did this was to use the \"marked_include\" value on Alison' s Subject Tracking sheet (she uses x for included and ~ for excluded). All of the participants who have rating data for these experiments are marked \"include\" (x).\n",
        "2.   Next, I checked whether the number of participants in each condition matched with what we included in the paper.  It doesn't. I do not know how to resolve this.\n",
        "  *   In 60-40, there is rating data for 12 older children, 10 younger children, and 0 adults, but the paper lists 12 adults, 8 older children, and 10 younger children (with final analysis including 12 adults, 7 older children, and 7 younger children)\n",
        "  *   In 40-20-4, there is rating data for 8 adults, 8 older children, and 11 younger children. The paper lists 8 adults, 10 older children and 10 younger children (with final analysis including 8 adults, 10 older children, and 9 young children)\n",
        "3. Then, I checked whether any participants selected all the same value on the rating test. No-one did so I left them all in.\n",
        "4. Finally, inspecting 40-20-4 resulted in a different problem: many of the children did not have the \"correct\" rating data. They seem to have been run in a different rating test all together. This is especially true of the older children (only 2 got the correct version of the rating test according to the raw data).\n",
        "\n",
        "\n",
        "*Note: I discussed all this on the phone with Lissa on 7/18/2019. She said that we should consider Alison's plot to have the right data, and, since the rating data isn't terribly important (we are really arguing there is not much to interpret), we can just use and include all of the data we have for the correct rating test. I did so, and generated plots from this data. They turned out to match Alison's very closely, so we went ahead with that.\n",
        "\n",
        "\n"
      ]
    },
    {
      "cell_type": "code",
      "metadata": {
        "id": "s3if_cTywolU",
        "colab_type": "code",
        "outputId": "cd012bc2-80a3-4aaa-ec7d-1f325c98e258",
        "colab": {
          "base_uri": "https://localhost:8080/",
          "height": 187
        }
      },
      "source": [
        "# check whether anyone was excluded from either experiment on Alison's subject tracking sheet\n",
        "# check this value the n against the ns reported in the paper\n",
        "data %>% filter(Distribution %in% c(\"60-40\", \"40-20-4\")) %>% group_by(Distribution, age_group, marked_include) %>%\n",
        "  summarise(n = n_distinct(Subject)) %>% kable"
      ],
      "execution_count": 25,
      "outputs": [
        {
          "output_type": "display_data",
          "data": {
            "text/plain": [
              "\n",
              "\n",
              "|Distribution |age_group   |marked_include |  n|\n",
              "|:------------|:-----------|:--------------|--:|\n",
              "|40-20-4      |adult       |x              |  8|\n",
              "|40-20-4      |older child |x              |  8|\n",
              "|40-20-4      |young child |x              | 11|\n",
              "|60-40        |adult       |x              |  8|\n",
              "|60-40        |older child |x              | 12|\n",
              "|60-40        |young child |x              | 10|"
            ]
          },
          "metadata": {
            "tags": []
          }
        }
      ]
    },
    {
      "cell_type": "code",
      "metadata": {
        "id": "Bz7FCbwZ8bPa",
        "colab_type": "code",
        "outputId": "43da3422-3e26-4ed6-ec04-98ef6b4a2c73",
        "colab": {
          "base_uri": "https://localhost:8080/",
          "height": 340
        }
      },
      "source": [
        "# check whether anyone selected all the same value (e.g. all 5) on the rating test\n",
        "data %>% filter(Distribution %in% c(\"60-40\", \"40-20-4\")) %>% group_by(Distribution, age_group, Subject) %>%\n",
        "  summarise(n_distinct = n_distinct(Rating)) %>% \n",
        "  group_by(Distribution, age_group, n_distinct) %>%\n",
        "  summarise(n_subjs = n_distinct(Subject)) %>%\n",
        "  kable"
      ],
      "execution_count": 26,
      "outputs": [
        {
          "output_type": "display_data",
          "data": {
            "text/plain": [
              "\n",
              "\n",
              "|Distribution |age_group   | n_distinct| n_subjs|\n",
              "|:------------|:-----------|----------:|-------:|\n",
              "|40-20-4      |adult       |          3|       1|\n",
              "|40-20-4      |adult       |          4|       7|\n",
              "|40-20-4      |older child |          3|       2|\n",
              "|40-20-4      |older child |          4|       6|\n",
              "|40-20-4      |young child |          2|       2|\n",
              "|40-20-4      |young child |          3|       2|\n",
              "|40-20-4      |young child |          4|       7|\n",
              "|60-40        |adult       |          2|       1|\n",
              "|60-40        |adult       |          3|       2|\n",
              "|60-40        |adult       |          4|       5|\n",
              "|60-40        |older child |          2|       2|\n",
              "|60-40        |older child |          3|       2|\n",
              "|60-40        |older child |          4|       8|\n",
              "|60-40        |young child |          3|       1|\n",
              "|60-40        |young child |          4|       9|"
            ]
          },
          "metadata": {
            "tags": []
          }
        }
      ]
    },
    {
      "cell_type": "markdown",
      "metadata": {
        "id": "dPLvjGItmxl9",
        "colab_type": "text"
      },
      "source": [
        "Lastly, I grouped all of the 'novel' trial types together (novb, novt, novc, and novv) into one category \"nov\" to match the way Alison plotted the data. Then, I generated a z_score for the participants. "
      ]
    },
    {
      "cell_type": "code",
      "metadata": {
        "id": "hjQI-wduSzgY",
        "colab_type": "code",
        "colab": {}
      },
      "source": [
        "# group all 'novel' trials together and then normalize (z-score)\n",
        "data_normed <- filter(data, Distribution %in% c(\"60-40\", \"40-20-4\")) %>%\n",
        "  mutate(`Sentence Manipulation` = ifelse(`Sentence Manipulation` %in% c(\"novb\", \"novt\", \"novc\", \"novv\"), 'nov', `Sentence Manipulation`)) %>%\n",
        "  group_by(Distribution, Subject) %>%\n",
        "  mutate(z_score = scale(Rating))\n",
        "  "
      ],
      "execution_count": 0,
      "outputs": []
    },
    {
      "cell_type": "markdown",
      "metadata": {
        "id": "_x_3fTHEnA0B",
        "colab_type": "text"
      },
      "source": [
        "Now that all of the data has been loaded and normalized (for rating data), we can move on to doing the stats."
      ]
    },
    {
      "cell_type": "markdown",
      "metadata": {
        "id": "aBcbQbuPOp7O",
        "colab_type": "text"
      },
      "source": [
        "## Experiment 1\n",
        "\n",
        "No stats were needed for Experiment 1 (Alison had included them all), but I ran some ttests anyway to make sure the way I am doing things is matching up with the way Alison did things.\n",
        "\n",
        "Alison's reported ttests (for inconsistent language):\n",
        "\n",
        "*   Adults compared to input: t(8)=0.199, p=0.848\n",
        "*   Children compared to input: t(8)-4.11, p=0.003\n",
        "\n"
      ]
    },
    {
      "cell_type": "code",
      "metadata": {
        "id": "tDcwNTzkXp0t",
        "colab_type": "code",
        "outputId": "09c13e3e-049e-41c1-e582-9116ab72bc6b",
        "colab": {
          "base_uri": "https://localhost:8080/",
          "height": 153
        }
      },
      "source": [
        "# let's see the data for this experiment\n",
        "data_paper %>% filter(experiment_paper == \"Experiment 1\") %>% kable"
      ],
      "execution_count": 7,
      "outputs": [
        {
          "output_type": "display_data",
          "data": {
            "text/plain": [
              "\n",
              "\n",
              "|experiment_paper |age_group   |condition    |  n| df|  mean|       sd|  se|\n",
              "|:----------------|:-----------|:------------|--:|--:|-----:|--------:|---:|\n",
              "|Experiment 1     |adult       |consistent   |  8|  7| 100.0|  0.00000| 0.0|\n",
              "|Experiment 1     |adult       |inconsistent |  9|  8|  67.4| 11.40000| 3.8|\n",
              "|Experiment 1     |young child |consistent   |  5|  4| 100.0|  0.00000| 0.0|\n",
              "|Experiment 1     |young child |inconsistent | 10|  9|  90.1| 18.02498| 5.7|"
            ]
          },
          "metadata": {
            "tags": []
          }
        }
      ]
    },
    {
      "cell_type": "code",
      "metadata": {
        "id": "E772S0lGxz0v",
        "colab_type": "code",
        "colab": {}
      },
      "source": [
        "# do a one sample ttest against the input for Experiment 1 inconsistent condition (input = 67)\n",
        "exp_1 <- data_paper %>% \n",
        "  filter(experiment_paper == \"Experiment 1\", condition == \"inconsistent\") %>%\n",
        "  group_by(experiment_paper, age_group, df) %>%\n",
        "  do(tidy(tsum.test(mean.x = .$mean, \n",
        "                    s.x = .$sd, \n",
        "                    n.x = .$n,\n",
        "                    mu = 67,\n",
        "                    alternative = 'two.sided'))) "
      ],
      "execution_count": 0,
      "outputs": []
    },
    {
      "cell_type": "code",
      "metadata": {
        "id": "qBB2hoFIThSF",
        "colab_type": "code",
        "outputId": "05004f17-cb8f-408a-ac7a-52bca5e595dc",
        "colab": {
          "base_uri": "https://localhost:8080/",
          "height": 119
        }
      },
      "source": [
        "# summarize results of ttest in a table\n",
        "exp_1 %>% kable"
      ],
      "execution_count": 9,
      "outputs": [
        {
          "output_type": "display_data",
          "data": {
            "text/plain": [
              "\n",
              "\n",
              "|experiment_paper |age_group   | df| estimate| statistic|   p.value| conf.low| conf.high|method            |alternative |\n",
              "|:----------------|:-----------|--:|--------:|---------:|---------:|--------:|---------:|:-----------------|:-----------|\n",
              "|Experiment 1     |adult       |  8|     67.4| 0.1052632| 0.9187584| 58.63718|  76.16282|One-sample t-Test |two.sided   |\n",
              "|Experiment 1     |young child |  9|     90.1| 4.0526316| 0.0028736| 77.20570| 102.99430|One-sample t-Test |two.sided   |"
            ]
          },
          "metadata": {
            "tags": []
          }
        }
      ]
    },
    {
      "cell_type": "markdown",
      "metadata": {
        "id": "awo9FmbvUuuZ",
        "colab_type": "text"
      },
      "source": [
        "The values are pretty close, but they don't come out exactly the same. This could be in part because I have a different df for the child group. (I went back to the paper and can't find any reason why she used only 9 participants instead of 10 in this analysis. In the text, it always says \"no participants were eliminated\" each time there is a chance to remove one."
      ]
    },
    {
      "cell_type": "markdown",
      "metadata": {
        "id": "VaVO1pPpVXzS",
        "colab_type": "text"
      },
      "source": [
        "## Experiment 2\n",
        "\n",
        "Alison did not include ttests against the input for this experiment, but Lissa said she didn't mind if we didn't include them. (She didn't make a highlighted note to include them on her final draft). Over the phone, we decided to run them if it was easy enough, so I've done that here in case we want to include them. (We likely don't need to -- as Lissa pointed out, there is an ANOVA right after)\n",
        "\n",
        "Comparing adults and kids to 67%. In this case, we expect both to match the input level, because the language is lexically conditioned."
      ]
    },
    {
      "cell_type": "code",
      "metadata": {
        "id": "g8DUOdsVYGOa",
        "colab_type": "code",
        "outputId": "b43fc9e4-d034-41ba-ad34-97c9556df153",
        "colab": {
          "base_uri": "https://localhost:8080/",
          "height": 119
        }
      },
      "source": [
        "# let's see the data for this experiment\n",
        "data_paper %>% filter(experiment_paper == \"Experiment 2\") %>% kable"
      ],
      "execution_count": 10,
      "outputs": [
        {
          "output_type": "display_data",
          "data": {
            "text/plain": [
              "\n",
              "\n",
              "|experiment_paper |age_group   |condition  |  n| df| mean|        sd|   se|\n",
              "|:----------------|:-----------|:----------|--:|--:|----:|---------:|----:|\n",
              "|Experiment 2     |adult       |consistent |  7|  6| 69.8|  3.439477| 1.30|\n",
              "|Experiment 2     |young child |consistent |  8|  7| 64.5| 17.932228| 6.34|"
            ]
          },
          "metadata": {
            "tags": []
          }
        }
      ]
    },
    {
      "cell_type": "code",
      "metadata": {
        "id": "CWtttmqXUsxK",
        "colab_type": "code",
        "colab": {}
      },
      "source": [
        "# do a one sample ttest against the input for Experiment 2 (input = 67)\n",
        "exp_2 <- data_paper %>% \n",
        "  filter(experiment_paper == \"Experiment 2\") %>%\n",
        "  group_by(experiment_paper, age_group, df) %>%\n",
        "  do(tidy(tsum.test(mean.x = .$mean, \n",
        "                    s.x = .$sd, \n",
        "                    n.x = .$n,\n",
        "                    mu = 67,\n",
        "                    alternative = 'two.sided'))) "
      ],
      "execution_count": 0,
      "outputs": []
    },
    {
      "cell_type": "code",
      "metadata": {
        "id": "lPub2m-JWTF_",
        "colab_type": "code",
        "outputId": "f6dbc4b9-04e4-4153-825f-30ca76a98663",
        "colab": {
          "base_uri": "https://localhost:8080/",
          "height": 119
        }
      },
      "source": [
        "# summarize results of ttest in a table\n",
        "exp_2 %>% kable"
      ],
      "execution_count": 12,
      "outputs": [
        {
          "output_type": "display_data",
          "data": {
            "text/plain": [
              "\n",
              "\n",
              "|experiment_paper |age_group   | df| estimate|  statistic|   p.value| conf.low| conf.high|method            |alternative |\n",
              "|:----------------|:-----------|--:|--------:|----------:|---------:|--------:|---------:|:-----------------|:-----------|\n",
              "|Experiment 2     |adult       |  6|     69.8|  2.1538462| 0.0747086| 66.61901|  72.98099|One-sample t-Test |two.sided   |\n",
              "|Experiment 2     |young child |  7|     64.5| -0.3943218| 0.7050810| 49.50828|  79.49172|One-sample t-Test |two.sided   |"
            ]
          },
          "metadata": {
            "tags": []
          }
        }
      ]
    },
    {
      "cell_type": "markdown",
      "metadata": {
        "id": "gQFJr1f8Wqdf",
        "colab_type": "text"
      },
      "source": [
        "So, adults and kids are not different from the input. (Though adults are kind of close). I suspect the adult result is because adults have a very small sd / se in this experiment. No matter -- as Lissa points out, the result is what we expected, but we don't really need it anyway because we have the ANOVA."
      ]
    },
    {
      "cell_type": "markdown",
      "metadata": {
        "id": "tpT9gMdHZA6U",
        "colab_type": "text"
      },
      "source": [
        "## Experiment 3\n",
        "\n",
        "Experiment 3 is the first experiment in which any necessary statistics are missing.  From Lissa's comments on the paper, we need to include:\n",
        "\n",
        "- ttests comparing all age groups to the input level.\n",
        "- ttests comparing older children to adults and kids.\n",
        "- possibly a linear trend (if we can do it with just m and sd)"
      ]
    },
    {
      "cell_type": "markdown",
      "metadata": {
        "id": "GssQiXV4akEv",
        "colab_type": "text"
      },
      "source": [
        "### Production"
      ]
    },
    {
      "cell_type": "code",
      "metadata": {
        "id": "OmMXb-_appTn",
        "colab_type": "code",
        "outputId": "6c464ec6-1829-45ef-d46a-3d62e6c3b782",
        "colab": {
          "base_uri": "https://localhost:8080/",
          "height": 136
        }
      },
      "source": [
        "# let's see the data for this experiment\n",
        "data_paper %>% filter(experiment_paper == \"Experiment 3\") %>% kable"
      ],
      "execution_count": 13,
      "outputs": [
        {
          "output_type": "display_data",
          "data": {
            "text/plain": [
              "\n",
              "\n",
              "|experiment_paper |age_group   |condition    |  n| df| mean|       sd|   se|\n",
              "|:----------------|:-----------|:------------|--:|--:|----:|--------:|----:|\n",
              "|Experiment 3     |adult       |inconsistent | 12| 11| 61.8| 11.36225| 3.28|\n",
              "|Experiment 3     |older child |inconsistent |  7|  6| 68.2| 24.52611| 9.27|\n",
              "|Experiment 3     |young child |inconsistent |  7|  6| 82.7| 23.67947| 8.95|"
            ]
          },
          "metadata": {
            "tags": []
          }
        }
      ]
    },
    {
      "cell_type": "markdown",
      "metadata": {
        "id": "UBAirs7inJJ1",
        "colab_type": "text"
      },
      "source": [
        "First, we can do a ttest against the input level for each age group."
      ]
    },
    {
      "cell_type": "code",
      "metadata": {
        "id": "dUuK7a1olG-0",
        "colab_type": "code",
        "colab": {}
      },
      "source": [
        "# do a one sample ttest against the input for Experiment 3 (input = 60)\n",
        "exp_3 <- data_paper %>% \n",
        "  filter(experiment_paper == \"Experiment 3\") %>%\n",
        "  group_by(experiment_paper, age_group, df) %>%\n",
        "  do(tidy(tsum.test(mean.x = .$mean, \n",
        "                    s.x = .$sd, \n",
        "                    n.x = .$n,\n",
        "                    mu = 60,\n",
        "                    alternative = 'greater'))) "
      ],
      "execution_count": 0,
      "outputs": []
    },
    {
      "cell_type": "code",
      "metadata": {
        "id": "Ww1GmtzIqHg6",
        "colab_type": "code",
        "outputId": "bc916abf-ed62-4511-d20b-eacdcd0927ca",
        "colab": {
          "base_uri": "https://localhost:8080/",
          "height": 136
        }
      },
      "source": [
        "# summarize results of ttest in a table\n",
        "exp_3 %>% kable"
      ],
      "execution_count": 15,
      "outputs": [
        {
          "output_type": "display_data",
          "data": {
            "text/plain": [
              "\n",
              "\n",
              "|experiment_paper |age_group   | df| estimate| statistic|   p.value| conf.low| conf.high|method            |alternative |\n",
              "|:----------------|:-----------|--:|--------:|---------:|---------:|--------:|---------:|:-----------------|:-----------|\n",
              "|Experiment 3     |adult       | 11|     61.8| 0.5487805| 0.2970599| 55.90950|        NA|One-sample t-Test |greater     |\n",
              "|Experiment 3     |older child |  6|     68.2| 0.8845739| 0.2052149| 50.18672|        NA|One-sample t-Test |greater     |\n",
              "|Experiment 3     |young child |  6|     82.7| 2.5363128| 0.0221503| 65.30854|        NA|One-sample t-Test |greater     |"
            ]
          },
          "metadata": {
            "tags": []
          }
        }
      ]
    },
    {
      "cell_type": "markdown",
      "metadata": {
        "id": "0jZe0u0JnNRc",
        "colab_type": "text"
      },
      "source": [
        "Next, we can compare the older children to the younger kids and adults"
      ]
    },
    {
      "cell_type": "code",
      "metadata": {
        "id": "y22F16AZbuhi",
        "colab_type": "code",
        "colab": {}
      },
      "source": [
        "# get the values for each group\n",
        "exp3_older <- filter(data_paper, experiment_paper == \"Experiment 3\", age_group == \"older child\")\n",
        "exp3_young <- filter(data_paper, experiment_paper == \"Experiment 3\", age_group == \"young child\")\n",
        "exp3_adult <- filter(data_paper, experiment_paper == \"Experiment 3\", age_group == \"adult\")"
      ],
      "execution_count": 0,
      "outputs": []
    },
    {
      "cell_type": "code",
      "metadata": {
        "id": "6wrLe6NZeAgu",
        "colab_type": "code",
        "outputId": "2645d067-72a4-41ac-d5ba-fc8c2dfe2f01",
        "colab": {
          "base_uri": "https://localhost:8080/",
          "height": 102
        }
      },
      "source": [
        "# compare older kids to adults (are they signifianctly more than older?)\n",
        "tidy(tsum.test(mean.x = exp3_older$mean, s.x = exp3_older$sd, n.x = exp3_older$n,\n",
        "               mean.y = exp3_adult$mean, s.y = exp3_adult$sd, n.y = exp3_adult$n,\n",
        "               alternative = 'greater')) %>% kable"
      ],
      "execution_count": 19,
      "outputs": [
        {
          "output_type": "display_data",
          "data": {
            "text/plain": [
              "\n",
              "\n",
              "| estimate1| estimate2| statistic|  p.value|  conf.low| conf.high|method                           |alternative |\n",
              "|---------:|---------:|---------:|--------:|---------:|---------:|:--------------------------------|:-----------|\n",
              "|      68.2|      61.8|  0.650858| 0.267242| -12.03364|        NA|Welch Modified Two-Sample t-Test |greater     |"
            ]
          },
          "metadata": {
            "tags": []
          }
        }
      ]
    },
    {
      "cell_type": "code",
      "metadata": {
        "id": "JjVRaIP-j_lU",
        "colab_type": "code",
        "colab": {
          "base_uri": "https://localhost:8080/",
          "height": 102
        },
        "outputId": "5b93f1e4-1fe5-4d77-b5cd-cb36bdb20a94"
      },
      "source": [
        "# compare older kids to younger kids (are they significantly less than younger?)\n",
        "tidy(tsum.test(mean.x = exp3_older$mean, s.x = exp3_older$sd, n.x = exp3_older$n,\n",
        "               mean.y = exp3_young$mean, s.y = exp3_young$sd, n.y = exp3_young$n,\n",
        "               alternative = 'less')) %>% kable"
      ],
      "execution_count": 18,
      "outputs": [
        {
          "output_type": "display_data",
          "data": {
            "text/plain": [
              "\n",
              "\n",
              "| estimate1| estimate2| statistic|   p.value| conf.low| conf.high|method                           |alternative |\n",
              "|---------:|---------:|---------:|---------:|--------:|---------:|:--------------------------------|:-----------|\n",
              "|      68.2|      82.7| -1.125298| 0.1412465|       NA|  8.467977|Welch Modified Two-Sample t-Test |less        |"
            ]
          },
          "metadata": {
            "tags": []
          }
        }
      ]
    },
    {
      "cell_type": "markdown",
      "metadata": {
        "id": "uX6wADheneDL",
        "colab_type": "text"
      },
      "source": [
        "Lissa asked for a linear trend here, but this really isn't possible with just means and sd. I plotted the data and included a linear trend line, but it doesn't tell us really anything and we don't have any stats about this. It tells us usaged of the dominant form goes down over age, but that isn't necessarily driven by the older kids (the same would be true without them).\n",
        "\n",
        "The error bars and above ttests also tell you that the older kids are significantly different from the adults or younger kids. There are a very small number of kids in these experiments (7 older and 7 younger) so that makes it even harder to tell."
      ]
    },
    {
      "cell_type": "code",
      "metadata": {
        "id": "4t9CkO4Cg3re",
        "colab_type": "code",
        "outputId": "44cdfef2-99c8-44ac-9c19-25a5a4fb3029",
        "colab": {
          "base_uri": "https://localhost:8080/",
          "height": 377
        }
      },
      "source": [
        "options(repr.plot.width = 2, repr.plot.height = 3)\n",
        "data_3_lt <- filter(data_paper, experiment_paper == \"Experiment 3\") %>%\n",
        "  mutate(age = ifelse(age_group == \"young child\", 1, ifelse(age_group == \"older child\", 2, 3)))\n",
        "\n",
        "# linear trend plot\n",
        "ggplot(data_3_lt, aes(age, mean)) +\n",
        "  geom_bar(stat = \"identity\") +\n",
        "  geom_errorbar(aes(ymin = mean - se, ymax = mean + se),\n",
        "                  position = position_dodge(width = 0.9), width = 0.25)+\n",
        "  stat_smooth(method = \"lm\", se = F)+\n",
        "  theme_bw() + \n",
        "  xlab(\"Age Group\") +\n",
        "  ylab(\"Percent dominant\") +\n",
        "  ylim(0,100)\n"
      ],
      "execution_count": 29,
      "outputs": [
        {
          "output_type": "display_data",
          "data": {
            "image/png": "[encoded data removed]",
            "text/plain": [
              "plot without title"
            ]
          },
          "metadata": {
            "tags": []
          }
        }
      ]
    },
    {
      "cell_type": "markdown",
      "metadata": {
        "id": "qpX1YmZB4TDo",
        "colab_type": "text"
      },
      "source": [
        "### Rating\n",
        "Let's get the mean z-score for each person and the mean for each age group. Then we can recreate Alison's plots to see if we are close."
      ]
    },
    {
      "cell_type": "code",
      "metadata": {
        "id": "dHcOQVafTZ8I",
        "colab_type": "code",
        "colab": {}
      },
      "source": [
        "# mean z-score for each participant\n",
        "data_60_40 <- data_normed %>% filter(Distribution %in% c(\"60-40\")) %>% group_by(Distribution, age_group, Subject, `Sentence Manipulation`) %>%\n",
        "  summarise(age = mean(age), mean_rate = mean(z_score))\n"
      ],
      "execution_count": 0,
      "outputs": []
    },
    {
      "cell_type": "code",
      "metadata": {
        "id": "NfMgvSOZrp86",
        "colab_type": "code",
        "colab": {
          "base_uri": "https://localhost:8080/",
          "height": 289
        },
        "outputId": "c79907f9-f16b-4caa-bcb6-b1a888a6ebbf"
      },
      "source": [
        "# mean z-score by age and trial type\n",
        "data_60_40_z <- data_60_40 %>%\n",
        "  group_by(Distribution, age_group, `Sentence Manipulation`) %>%\n",
        "  summarize(n = n(), mean_age = mean(age), mean_z = mean(mean_rate), sd = sd(mean_rate),\n",
        "      sem = sd(mean_rate)/sqrt(length(mean_rate)))\n",
        "\n",
        "data_60_40_z %>% kable"
      ],
      "execution_count": 39,
      "outputs": [
        {
          "output_type": "display_data",
          "data": {
            "text/plain": [
              "\n",
              "\n",
              "|Distribution |age_group   |Sentence Manipulation |  n|  mean_age|     mean_z|        sd|       sem|\n",
              "|:------------|:-----------|:---------------------|--:|---------:|----------:|---------:|---------:|\n",
              "|60-40        |adult       |bl                    |  8| 20.580082| -0.9437363| 0.1685691| 0.0595982|\n",
              "|60-40        |adult       |dom                   |  8| 20.580082|  0.9711531| 0.0548389| 0.0193885|\n",
              "|60-40        |adult       |min                   |  8| 20.580082|  0.8865777| 0.1353637| 0.0478583|\n",
              "|60-40        |adult       |nov                   |  8| 20.580082| -0.9139945| 0.1960828| 0.0693258|\n",
              "|60-40        |older child |bl                    | 12|  7.762948| -0.6186181| 0.4230602| 0.1221270|\n",
              "|60-40        |older child |dom                   | 12|  7.762948|  0.6353222| 0.3156580| 0.0911226|\n",
              "|60-40        |older child |min                   | 12|  7.762948|  0.6335129| 0.3674509| 0.1060739|\n",
              "|60-40        |older child |nov                   | 12|  7.762948| -0.6502170| 0.3433028| 0.0991030|\n",
              "|60-40        |young child |bl                    | 10|  5.963860| -0.6446192| 0.3620914| 0.1145034|\n",
              "|60-40        |young child |dom                   | 10|  5.963860|  0.6790580| 0.3709739| 0.1173122|\n",
              "|60-40        |young child |min                   | 10|  5.963860|  0.4143784| 0.5055423| 0.1598665|\n",
              "|60-40        |young child |nov                   | 10|  5.963860| -0.4488172| 0.4854312| 0.1535068|"
            ]
          },
          "metadata": {
            "tags": []
          }
        }
      ]
    },
    {
      "cell_type": "code",
      "metadata": {
        "id": "_LsWS30vYYAA",
        "colab_type": "code",
        "outputId": "d7b4ac69-62f5-4d45-81c0-b08ee2dfa663",
        "colab": {
          "base_uri": "https://localhost:8080/",
          "height": 497
        }
      },
      "source": [
        "options(repr.plot.width = 4, repr.plot.height = 4)\n",
        "\n",
        "ggplot(data_60_40_z, aes(x = `Sentence Manipulation`, y = mean_z)) +\n",
        "  facet_grid(.~age_group) +\n",
        "  geom_bar(stat = \"identity\", position = position_dodge()) +\n",
        "  geom_errorbar(aes(ymin = mean_z - sem, ymax = mean_z + sem),\n",
        "                  position = position_dodge(width = 0.9), width = 0.25)+\n",
        "  theme_bw() + \n",
        "  xlab(\"Determiner Manipulation\") +\n",
        "  ylab(\"Mean z-score\") \n",
        "  "
      ],
      "execution_count": 40,
      "outputs": [
        {
          "output_type": "display_data",
          "data": {
            "image/png": "[encoded data removed]",
            "text/plain": [
              "plot without title"
            ]
          },
          "metadata": {
            "tags": []
          }
        }
      ]
    },
    {
      "cell_type": "markdown",
      "metadata": {
        "id": "z8-Cem8QowQA",
        "colab_type": "text"
      },
      "source": [
        "Sent this plot to Lissa to compare to Alison's and she agreed it was very close. The values of n don't match what is in the paper, but we have no way to easily tell which kids were excluded from the production data (we only have the reported means, unless we re-ran Alison's entire preprocessing).  Lissa and I agreed it's fine to just include all the kids we have in the rating data, provided the plots generated looked close enough to Alison's. They do, so we will use all kids for the stats."
      ]
    },
    {
      "cell_type": "code",
      "metadata": {
        "id": "al74qYEeejw1",
        "colab_type": "code",
        "outputId": "4ea75771-4dee-4651-fa37-52441d0106ec",
        "colab": {
          "base_uri": "https://localhost:8080/",
          "height": 136
        }
      },
      "source": [
        "# do a paired ttest comparing dom to min for each age group\n",
        "data_60_40 %>% \n",
        "  filter(`Sentence Manipulation` %in% c(\"dom\", \"min\")) %>%\n",
        "  group_by(age_group) %>%\n",
        "  do(tidy(t.test(mean_rate ~ `Sentence Manipulation`, paired = TRUE, alternative = \"two.sided\", data = .))) %>%\n",
        "  kable"
      ],
      "execution_count": 48,
      "outputs": [
        {
          "output_type": "display_data",
          "data": {
            "text/plain": [
              "\n",
              "\n",
              "|age_group   |  estimate| statistic|   p.value| parameter|   conf.low| conf.high|method        |alternative |\n",
              "|:-----------|---------:|---------:|---------:|---------:|----------:|---------:|:-------------|:-----------|\n",
              "|adult       | 0.0845754| 1.5347152| 0.1687272|         7| -0.0457348| 0.2148857|Paired t-test |two.sided   |\n",
              "|older child | 0.0018093| 0.0188172| 0.9853239|        11| -0.2098208| 0.2134394|Paired t-test |two.sided   |\n",
              "|young child | 0.2646796| 1.7730366| 0.1099784|         9| -0.0730161| 0.6023752|Paired t-test |two.sided   |"
            ]
          },
          "metadata": {
            "tags": []
          }
        }
      ]
    },
    {
      "cell_type": "markdown",
      "metadata": {
        "id": "oLuVFdNNuVPD",
        "colab_type": "text"
      },
      "source": [
        "As described in the paper, nobody is significantly different between dom and min"
      ]
    },
    {
      "cell_type": "markdown",
      "metadata": {
        "id": "cfbU-TM3ujk7",
        "colab_type": "text"
      },
      "source": [
        "## Experiment 4"
      ]
    },
    {
      "cell_type": "markdown",
      "metadata": {
        "id": "URIN384Hy_IG",
        "colab_type": "text"
      },
      "source": [
        "### Production"
      ]
    },
    {
      "cell_type": "code",
      "metadata": {
        "colab_type": "code",
        "outputId": "a228e8b0-967f-4243-81a7-8d7983c4d961",
        "id": "65GW0SyAzN2h",
        "colab": {
          "base_uri": "https://localhost:8080/",
          "height": 136
        }
      },
      "source": [
        "# let's see the data for this experiment\n",
        "data_paper %>% filter(experiment_paper == \"Experiment 4\") %>% kable"
      ],
      "execution_count": 60,
      "outputs": [
        {
          "output_type": "display_data",
          "data": {
            "text/plain": [
              "\n",
              "\n",
              "|experiment_paper |age_group   |condition    |  n| df| mean|        sd|   se|\n",
              "|:----------------|:-----------|:------------|--:|--:|----:|---------:|----:|\n",
              "|Experiment 4     |adult       |inconsistent |  8|  7| 44.6|  9.842926| 3.48|\n",
              "|Experiment 4     |older child |inconsistent | 10|  9| 49.6|  8.190299| 2.59|\n",
              "|Experiment 4     |young child |inconsistent |  9|  8| 77.4| 21.870000| 7.29|"
            ]
          },
          "metadata": {
            "tags": []
          }
        }
      ]
    },
    {
      "cell_type": "markdown",
      "metadata": {
        "colab_type": "text",
        "id": "dB2m3U_tzN2k"
      },
      "source": [
        "First, we can do a ttest against the input level for each age group."
      ]
    },
    {
      "cell_type": "code",
      "metadata": {
        "colab_type": "code",
        "id": "kH_7bOouzN2k",
        "colab": {}
      },
      "source": [
        "# do a one sample ttest against the input for Experiment 4 (input = 40)\n",
        "exp_4 <- data_paper %>% \n",
        "  filter(experiment_paper == \"Experiment 4\") %>%\n",
        "  group_by(experiment_paper, age_group, df) %>%\n",
        "  do(tidy(tsum.test(mean.x = .$mean, \n",
        "                    s.x = .$sd, \n",
        "                    n.x = .$n,\n",
        "                    mu = 40,\n",
        "                    alternative = 'greater'))) "
      ],
      "execution_count": 0,
      "outputs": []
    },
    {
      "cell_type": "code",
      "metadata": {
        "colab_type": "code",
        "outputId": "fac05e9d-b726-42b1-af4b-94642b6a1c27",
        "id": "G6R1p6mvzN2m",
        "colab": {
          "base_uri": "https://localhost:8080/",
          "height": 136
        }
      },
      "source": [
        "# summarize results of ttest in a table\n",
        "exp_4 %>% kable"
      ],
      "execution_count": 64,
      "outputs": [
        {
          "output_type": "display_data",
          "data": {
            "text/plain": [
              "\n",
              "\n",
              "|experiment_paper |age_group   | df| estimate| statistic|   p.value| conf.low| conf.high|method            |alternative |\n",
              "|:----------------|:-----------|--:|--------:|---------:|---------:|--------:|---------:|:-----------------|:-----------|\n",
              "|Experiment 4     |adult       |  7|     44.6|  1.321839| 0.1138900| 38.00687|        NA|One-sample t-Test |greater     |\n",
              "|Experiment 4     |older child |  9|     49.6|  3.706564| 0.0024354| 44.85224|        NA|One-sample t-Test |greater     |\n",
              "|Experiment 4     |young child |  8|     77.4|  5.130316| 0.0004479| 63.84389|        NA|One-sample t-Test |greater     |"
            ]
          },
          "metadata": {
            "tags": []
          }
        }
      ]
    },
    {
      "cell_type": "markdown",
      "metadata": {
        "colab_type": "text",
        "id": "44AN6Z59zN2q"
      },
      "source": [
        "Next, we can compare the older children to the younger kids and adults"
      ]
    },
    {
      "cell_type": "code",
      "metadata": {
        "colab_type": "code",
        "id": "rARTXDBVzN2q",
        "colab": {}
      },
      "source": [
        "# get the values for each group\n",
        "exp4_older <- filter(data_paper, experiment_paper == \"Experiment 4\", age_group == \"older child\")\n",
        "exp4_young <- filter(data_paper, experiment_paper == \"Experiment 4\", age_group == \"young child\")\n",
        "exp4_adult <- filter(data_paper, experiment_paper == \"Experiment 4\", age_group == \"adult\")"
      ],
      "execution_count": 0,
      "outputs": []
    },
    {
      "cell_type": "code",
      "metadata": {
        "colab_type": "code",
        "outputId": "67baf91b-7a00-4b66-cab5-0262c669c557",
        "id": "_aVJKSJvzN2s",
        "colab": {
          "base_uri": "https://localhost:8080/",
          "height": 102
        }
      },
      "source": [
        "# compare older kids to adults (are they signifianctly more than older?)\n",
        "tidy(tsum.test(mean.x = exp4_older$mean, s.x = exp4_older$sd, n.x = exp4_older$n,\n",
        "               mean.y = exp4_adult$mean, s.y = exp4_adult$sd, n.y = exp4_adult$n,\n",
        "               alternative = 'greater')) %>% kable"
      ],
      "execution_count": 67,
      "outputs": [
        {
          "output_type": "display_data",
          "data": {
            "text/plain": [
              "\n",
              "\n",
              "| estimate1| estimate2| statistic|   p.value|  conf.low| conf.high|method                           |alternative |\n",
              "|---------:|---------:|---------:|---------:|---------:|---------:|:--------------------------------|:-----------|\n",
              "|      49.6|      44.6|  1.152597| 0.1344338| -2.654643|        NA|Welch Modified Two-Sample t-Test |greater     |"
            ]
          },
          "metadata": {
            "tags": []
          }
        }
      ]
    },
    {
      "cell_type": "code",
      "metadata": {
        "colab_type": "code",
        "outputId": "c2321e60-9db2-449d-88b1-a6aa3dda82e2",
        "id": "cOE34lFPzN2u",
        "colab": {
          "base_uri": "https://localhost:8080/",
          "height": 102
        }
      },
      "source": [
        "# compare older kids to younger kids (are they significantly less than younger?)\n",
        "tidy(tsum.test(mean.x = exp4_older$mean, s.x = exp4_older$sd, n.x = exp4_older$n,\n",
        "               mean.y = exp4_young$mean, s.y = exp4_young$sd, n.y = exp4_young$n,\n",
        "               alternative = 'less')) %>% kable"
      ],
      "execution_count": 68,
      "outputs": [
        {
          "output_type": "display_data",
          "data": {
            "text/plain": [
              "\n",
              "\n",
              "| estimate1| estimate2| statistic|   p.value| conf.low| conf.high|method                           |alternative |\n",
              "|---------:|---------:|---------:|---------:|--------:|---------:|:--------------------------------|:-----------|\n",
              "|      49.6|      77.4| -3.593393| 0.0024486|       NA|  -13.7788|Welch Modified Two-Sample t-Test |less        |"
            ]
          },
          "metadata": {
            "tags": []
          }
        }
      ]
    },
    {
      "cell_type": "markdown",
      "metadata": {
        "colab_type": "text",
        "id": "5v4Q3VNhzN2x"
      },
      "source": [
        "Lissa asked for a linear trend here, but this really isn't possible with just means and sd. I plotted the data and included a linear trend line, but it doesn't tell us really anything and we don't have any stats about this. It tells us usaged of the dominant form goes down over age, but that isn't necessarily driven by the older kids (the same would be true without them).\n",
        "\n",
        "The error bars and above ttests also tell you that the older kids are significantly different from the adults or younger kids. There are a very small number of kids in these experiments (7 older and 7 younger) so that makes it even harder to tell."
      ]
    },
    {
      "cell_type": "code",
      "metadata": {
        "colab_type": "code",
        "outputId": "e0ac3bb6-9579-4715-e401-ffbd8c08085e",
        "id": "_-XUytfLzN2x",
        "colab": {
          "base_uri": "https://localhost:8080/",
          "height": 377
        }
      },
      "source": [
        "options(repr.plot.width = 2, repr.plot.height = 3)\n",
        "data_4_lt <- filter(data_paper, experiment_paper == \"Experiment 4\") %>%\n",
        "  mutate(age = ifelse(age_group == \"young child\", 1, ifelse(age_group == \"older child\", 2, 3)))\n",
        "\n",
        "# linear trend plot\n",
        "ggplot(data_4_lt, aes(age, mean)) +\n",
        "  geom_bar(stat = \"identity\") +\n",
        "  geom_errorbar(aes(ymin = mean - se, ymax = mean + se),\n",
        "                  position = position_dodge(width = 0.9), width = 0.25)+\n",
        "  stat_smooth(method = \"lm\", se = F)+\n",
        "  theme_bw() + \n",
        "  xlab(\"Age Group\") +\n",
        "  ylab(\"Percent dominant\") +\n",
        "  ylim(0,100)\n"
      ],
      "execution_count": 69,
      "outputs": [
        {
          "output_type": "display_data",
          "data": {
            "image/png": "[encoded data removed]",
            "text/plain": [
              "plot without title"
            ]
          },
          "metadata": {
            "tags": []
          }
        }
      ]
    },
    {
      "cell_type": "markdown",
      "metadata": {
        "colab_type": "text",
        "id": "Nwrzv2-LvC3_"
      },
      "source": [
        "### Rating\n",
        "Let's get the mean z-score for each person and the mean for each age group. Then we can recreate Alison's plots to see if we are close."
      ]
    },
    {
      "cell_type": "code",
      "metadata": {
        "colab_type": "code",
        "id": "wBYsL9PZvC4C",
        "colab": {}
      },
      "source": [
        "# mean z-score for each participant\n",
        "data_40_20_4 <- data_normed %>% filter(Distribution %in% c(\"40-20-4\")) %>% group_by(Distribution, age_group, Subject, `Sentence Manipulation`) %>%\n",
        "  summarise(age = mean(age), mean_rate = mean(z_score))\n"
      ],
      "execution_count": 0,
      "outputs": []
    },
    {
      "cell_type": "markdown",
      "metadata": {
        "id": "vbiKVNjQvgex",
        "colab_type": "text"
      },
      "source": [
        "It turns out that many if the kids (especially in the older child group) got an incorrect, old version of the rating test (one with only 4 trial types: corr, missing, novel, wo). We decided to just eliminate those kids from the rating analysis and instead include only the kids who did the version of the rating test that is described in the paper. This means only 2 older kids are included, but as you'll see, the plots later look a lot like Alison's, so this is probably what she did also."
      ]
    },
    {
      "cell_type": "code",
      "metadata": {
        "colab_type": "code",
        "outputId": "b351aa93-c6ab-441f-ef67-376f2897d781",
        "id": "TTId2-CyvC4N",
        "colab": {
          "base_uri": "https://localhost:8080/",
          "height": 340
        }
      },
      "source": [
        "# mean z-score by age and trial type (for kids who got the right test)\n",
        "data_40_20_4_z <- data_40_20_4 %>%\n",
        "  filter(`Sentence Manipulation` %in% c('bl', 'dom', 'min', 'nov', 'scat')) %>% \n",
        "  group_by(Distribution, age_group, `Sentence Manipulation`) %>%\n",
        "  summarize(n = n(), mean_age = mean(age), mean_z = mean(mean_rate), sd = sd(mean_rate),\n",
        "      sem = sd(mean_rate)/sqrt(length(mean_rate)))\n",
        "\n",
        "data_40_20_4_z %>% kable"
      ],
      "execution_count": 54,
      "outputs": [
        {
          "output_type": "display_data",
          "data": {
            "text/plain": [
              "\n",
              "\n",
              "|Distribution |age_group   |Sentence Manipulation |  n|  mean_age|     mean_z|        sd|       sem|\n",
              "|:------------|:-----------|:---------------------|--:|---------:|----------:|---------:|---------:|\n",
              "|40-20-4      |adult       |bl                    |  8| 20.274812| -1.1846230| 0.1138203| 0.0402416|\n",
              "|40-20-4      |adult       |dom                   |  8| 20.274812|  0.7741400| 0.1278024| 0.0451850|\n",
              "|40-20-4      |adult       |min                   |  8| 20.274812|  0.7883660| 0.1529653| 0.0540814|\n",
              "|40-20-4      |adult       |nov                   |  8| 20.274812| -0.8295349| 0.1796477| 0.0635150|\n",
              "|40-20-4      |adult       |scat                  |  8| 20.274812|  0.4516520| 0.2498572| 0.0883378|\n",
              "|40-20-4      |older child |bl                    |  2|  8.062971| -1.0315803| 0.1495675| 0.1057602|\n",
              "|40-20-4      |older child |dom                   |  2|  8.062971|  0.7080911| 0.2158076| 0.1525990|\n",
              "|40-20-4      |older child |min                   |  2|  8.062971|  0.8932551| 0.0460539| 0.0325650|\n",
              "|40-20-4      |older child |nov                   |  2|  8.062971| -0.6769869| 0.4336811| 0.3066589|\n",
              "|40-20-4      |older child |scat                  |  2|  8.062971|  0.1072210| 0.4134949| 0.2923851|\n",
              "|40-20-4      |young child |bl                    |  8|  5.526010| -0.3940140| 0.5497793| 0.1943763|\n",
              "|40-20-4      |young child |dom                   |  8|  5.526010|  0.5347836| 0.5132320| 0.1814549|\n",
              "|40-20-4      |young child |min                   |  8|  5.526010|  0.0254413| 0.5510142| 0.1948129|\n",
              "|40-20-4      |young child |nov                   |  8|  5.526010| -0.3470527| 0.4515871| 0.1596602|\n",
              "|40-20-4      |young child |scat                  |  8|  5.526010|  0.1808417| 0.1653330| 0.0584540|"
            ]
          },
          "metadata": {
            "tags": []
          }
        }
      ]
    },
    {
      "cell_type": "code",
      "metadata": {
        "colab_type": "code",
        "outputId": "26723f09-c3f9-404c-ffdf-399341e09632",
        "id": "sfHWlSuhvC4Q",
        "colab": {
          "base_uri": "https://localhost:8080/",
          "height": 497
        }
      },
      "source": [
        "options(repr.plot.width = 4, repr.plot.height = 4)\n",
        "\n",
        "ggplot(data_40_20_4_z, aes(x = `Sentence Manipulation`, y = mean_z)) +\n",
        "  facet_grid(.~age_group) +\n",
        "  geom_bar(stat = \"identity\", position = position_dodge()) +\n",
        "  geom_errorbar(aes(ymin = mean_z - sem, ymax = mean_z + sem),\n",
        "                  position = position_dodge(width = 0.9), width = 0.25)+\n",
        "  theme_bw() + \n",
        "  xlab(\"Determiner Manipulation\") +\n",
        "  ylab(\"Mean z-score\") \n",
        "  "
      ],
      "execution_count": 55,
      "outputs": [
        {
          "output_type": "display_data",
          "data": {
            "image/png": "[encoded data removed]",
            "text/plain": [
              "plot without title"
            ]
          },
          "metadata": {
            "tags": []
          }
        }
      ]
    },
    {
      "cell_type": "markdown",
      "metadata": {
        "colab_type": "text",
        "id": "oZRKUF4SvC4U"
      },
      "source": [
        "As in Experiment 3, I sent this plot for Experiment 4 to Lissa to compare to Alison's and she agreed it was very close. The values of n don't match what is in the paper, but we have no way to easily tell which kids were excluded from the production data (we only have the reported means, unless we re-ran Alison's entire preprocessing).  Lissa and I agreed it's fine to just include all the kids we have in the rating data, provided the plots generated looked close enough to Alison's. They do, so we will use all kids for the stats."
      ]
    },
    {
      "cell_type": "code",
      "metadata": {
        "colab_type": "code",
        "outputId": "c9beb9f2-bdde-4aaf-b151-6a6b24703541",
        "id": "w2TSKISBvC4U",
        "colab": {
          "base_uri": "https://localhost:8080/",
          "height": 136
        }
      },
      "source": [
        "# Is dominant different from minority?\n",
        "# do a paired ttest comparing dom to min for each age group\n",
        "data_40_20_4 %>% \n",
        "  filter(`Sentence Manipulation` %in% c(\"dom\", \"min\")) %>%\n",
        "  group_by(age_group) %>%\n",
        "  do(tidy(t.test(mean_rate ~ `Sentence Manipulation`, paired = TRUE, alternative = \"two.sided\", data = .))) %>%\n",
        "  kable"
      ],
      "execution_count": 56,
      "outputs": [
        {
          "output_type": "display_data",
          "data": {
            "text/plain": [
              "\n",
              "\n",
              "|age_group   |   estimate|  statistic|   p.value| parameter|   conf.low| conf.high|method        |alternative |\n",
              "|:-----------|----------:|----------:|---------:|---------:|----------:|---------:|:-------------|:-----------|\n",
              "|adult       | -0.0142260| -0.1756274| 0.8655592|         7| -0.2057629| 0.1773109|Paired t-test |two.sided   |\n",
              "|older child | -0.1851640| -1.0000000| 0.5000000|         1| -2.5378960| 2.1675679|Paired t-test |two.sided   |\n",
              "|young child |  0.5093423|  2.7408781| 0.0288816|         7|  0.0699199| 0.9487646|Paired t-test |two.sided   |"
            ]
          },
          "metadata": {
            "tags": []
          }
        }
      ]
    },
    {
      "cell_type": "markdown",
      "metadata": {
        "colab_type": "text",
        "id": "inlI-qehvC4W"
      },
      "source": [
        "As described in the paper, nobody is significantly different between dom and min"
      ]
    },
    {
      "cell_type": "code",
      "metadata": {
        "colab_type": "code",
        "outputId": "0627a139-048b-4a0a-b5f0-dea52d1a8776",
        "id": "Q9RhqJoywkLR",
        "colab": {
          "base_uri": "https://localhost:8080/",
          "height": 136
        }
      },
      "source": [
        "# Is scatter different from minority?\n",
        "# do a paired ttest comparing min to scat for each age group\n",
        "data_40_20_4 %>% \n",
        "  filter(`Sentence Manipulation` %in% c(\"min\", \"scat\")) %>%\n",
        "  group_by(age_group) %>%\n",
        "  do(tidy(t.test(mean_rate ~ `Sentence Manipulation`, paired = TRUE, alternative = \"two.sided\", data = .))) %>%\n",
        "  kable"
      ],
      "execution_count": 58,
      "outputs": [
        {
          "output_type": "display_data",
          "data": {
            "text/plain": [
              "\n",
              "\n",
              "|age_group   |   estimate|  statistic|   p.value| parameter|   conf.low| conf.high|method        |alternative |\n",
              "|:-----------|----------:|----------:|---------:|---------:|----------:|---------:|:-------------|:-----------|\n",
              "|adult       |  0.3367140|  2.6646170| 0.0322504|         7|  0.0379086| 0.6355195|Paired t-test |two.sided   |\n",
              "|older child |  0.7860340|  2.4189379| 0.2495603|         1| -3.3428482| 4.9149162|Paired t-test |two.sided   |\n",
              "|young child | -0.1554004| -0.6942442| 0.5099059|         7| -0.6847007| 0.3738998|Paired t-test |two.sided   |"
            ]
          },
          "metadata": {
            "tags": []
          }
        }
      ]
    }
  ]
}